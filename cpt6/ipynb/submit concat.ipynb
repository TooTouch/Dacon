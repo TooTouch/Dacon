{
 "cells": [
  {
   "cell_type": "code",
   "execution_count": 1,
   "metadata": {},
   "outputs": [],
   "source": [
    "import pandas as pd\n",
    "import numpy as np\n",
    "import sys\n",
    "\n",
    "import xgboost as xgb\n",
    "sys.path.append('../code/')\n",
    "\n",
    "from preprocessing import *\n",
    "from config import *\n",
    "from utils import *"
   ]
  },
  {
   "cell_type": "markdown",
   "metadata": {},
   "source": [
    "# Load data"
   ]
  },
  {
   "cell_type": "code",
   "execution_count": 175,
   "metadata": {},
   "outputs": [
    {
     "name": "stdout",
     "output_type": "stream",
     "text": [
      "regular shape:  (2454, 28)\n",
      "submit shape:  (220, 1)\n"
     ]
    }
   ],
   "source": [
    "regular = pd.read_csv('../dataset/Regular_Season_Batter.csv', index_col=0)\n",
    "submit = pd.read_csv('../dataset/submission.csv', index_col=0)\n",
    "print('regular shape: ',regular.shape)\n",
    "print('submit shape: ',submit.shape)"
   ]
  },
  {
   "cell_type": "code",
   "execution_count": 176,
   "metadata": {},
   "outputs": [
    {
     "data": {
      "text/plain": [
       "array(['LG', '한화', 'NC', 'OB', '삼성', '롯데', 'KT', '현대', '우리', '넥센', '두산',\n",
       "       'SK', 'KIA', '해태', '쌍방울'], dtype=object)"
      ]
     },
     "execution_count": 176,
     "metadata": {},
     "output_type": "execute_result"
    }
   ],
   "source": [
    "regular.loc[:,'team'] = regular.team.apply(lambda x: '넥센' if x == '히어로즈' else x)\n",
    "regular.team.unique()"
   ]
  },
  {
   "cell_type": "code",
   "execution_count": 177,
   "metadata": {},
   "outputs": [],
   "source": [
    "regular = regular[regular.year > 2001]"
   ]
  },
  {
   "cell_type": "code",
   "execution_count": 178,
   "metadata": {},
   "outputs": [
    {
     "data": {
      "text/plain": [
       "(2359, 28)"
      ]
     },
     "execution_count": 178,
     "metadata": {},
     "output_type": "execute_result"
    }
   ],
   "source": [
    "regular.shape"
   ]
  },
  {
   "cell_type": "code",
   "execution_count": 179,
   "metadata": {},
   "outputs": [
    {
     "name": "stdout",
     "output_type": "stream",
     "text": [
      "team_move:  (725, 5)\n"
     ]
    }
   ],
   "source": [
    "team_move = pd.read_csv('../dataset/batter_team_move.csv')\n",
    "team_move.BATTER = team_move.BATTER.apply(lambda x: x.split('(')[0] if '(' in x else x)\n",
    "team_move.DATE = team_move.DATE.apply(lambda x: x.replace('-','')).astype(int)\n",
    "print('team_move: ',team_move.shape)"
   ]
  },
  {
   "cell_type": "markdown",
   "metadata": {},
   "source": [
    "# 사전에 필요한 정보"
   ]
  },
  {
   "cell_type": "code",
   "execution_count": 180,
   "metadata": {},
   "outputs": [],
   "source": [
    "pre_info = ['batter_name','year','team','height/weight','year_born','position','career','starting_salary']"
   ]
  },
  {
   "cell_type": "markdown",
   "metadata": {},
   "source": [
    "# regular에서 2019 출전 선수들의 최근 정보 가져오기"
   ]
  },
  {
   "cell_type": "code",
   "execution_count": 181,
   "metadata": {},
   "outputs": [],
   "source": [
    "names2019 = submit.batter_name.unique()\n",
    "regular_names = regular.batter_name.unique()"
   ]
  },
  {
   "cell_type": "code",
   "execution_count": 182,
   "metadata": {},
   "outputs": [
    {
     "data": {
      "text/plain": [
       "set()"
      ]
     },
     "execution_count": 182,
     "metadata": {},
     "output_type": "execute_result"
    }
   ],
   "source": [
    "set(names2019) - set(regular_names)"
   ]
  },
  {
   "cell_type": "code",
   "execution_count": 183,
   "metadata": {},
   "outputs": [
    {
     "data": {
      "text/plain": [
       "(1532, 28)"
      ]
     },
     "execution_count": 183,
     "metadata": {},
     "output_type": "execute_result"
    }
   ],
   "source": [
    "regular2019 = regular[regular.batter_name.isin(names2019)]\n",
    "regular2019.shape"
   ]
  },
  {
   "cell_type": "code",
   "execution_count": 184,
   "metadata": {},
   "outputs": [
    {
     "name": "stdout",
     "output_type": "stream",
     "text": [
      "regular2019_recent:  (220, 2)\n",
      "가장 최근 기록이 몇년도일까?:  [2018]\n"
     ]
    }
   ],
   "source": [
    "regular2019 = regular2019.groupby('batter_name')['year'].max().reset_index()\n",
    "print('regular2019_recent: ',regular2019.shape)\n",
    "print('가장 최근 기록이 몇년도일까?: ',regular2019.year.unique())"
   ]
  },
  {
   "cell_type": "code",
   "execution_count": 185,
   "metadata": {},
   "outputs": [],
   "source": [
    "submit.loc[:,'year'] = 2019\n",
    "regular2019_recent = pd.merge(regular2019, regular[pre_info], on=['batter_name','year'], how='inner')\n",
    "regular2019_recent = pd.merge(submit, regular2019_recent.drop('year',axis=1), on='batter_name', how='inner')"
   ]
  },
  {
   "cell_type": "code",
   "execution_count": 186,
   "metadata": {},
   "outputs": [
    {
     "name": "stdout",
     "output_type": "stream",
     "text": [
      "team171819 shape:  (99, 5)\n"
     ]
    }
   ],
   "source": [
    "team171819 = team_move[team_move.BATTER.isin(names2019)]\n",
    "team171819 = team171819.sort_values(by='DATE', ascending=False)\n",
    "team171819_recent = team171819.groupby('BATTER')['DATE'].max().reset_index()\n",
    "team171819 = pd.merge(team171819_recent, team171819,  on=['BATTER','DATE'], how='inner')\n",
    "team171819 = team171819.iloc[team171819[['BATTER','DATE']].drop_duplicates(keep='first').index]                                                    \n",
    "print('team171819 shape: ',team171819.shape)"
   ]
  },
  {
   "cell_type": "code",
   "execution_count": 187,
   "metadata": {},
   "outputs": [],
   "source": [
    "def moving_team(name, old_team):\n",
    "    news_ = team171819.BATTER.unique()\n",
    "    if name in news_:\n",
    "        new_team = team171819[team171819.BATTER==name].TEAM.iloc[0]\n",
    "        if new_team != old_team:\n",
    "            if new_team == '키움':\n",
    "                return '넥센'\n",
    "            return new_team\n",
    "        else:\n",
    "            return old_team\n",
    "    else:\n",
    "        return old_team"
   ]
  },
  {
   "cell_type": "code",
   "execution_count": 188,
   "metadata": {},
   "outputs": [],
   "source": [
    "regular2019_recent.loc[:,'team'] = regular2019_recent.apply(lambda x: moving_team(x.batter_name, x.team), axis=1)"
   ]
  },
  {
   "cell_type": "markdown",
   "metadata": {},
   "source": [
    "# Concate 2019 data"
   ]
  },
  {
   "cell_type": "code",
   "execution_count": 189,
   "metadata": {},
   "outputs": [],
   "source": [
    "add_col = ['avg', 'G', 'AB', 'R', 'H', '2B', '3B', 'HR', 'TB', 'RBI', 'SB', 'CS', 'BB', 'HBP', 'SO', 'GDP', 'SLG', 'OBP', 'E','OPS']\n",
    "for c in add_col:\n",
    "    regular2019_recent.loc[:,c] = np.nan"
   ]
  },
  {
   "cell_type": "code",
   "execution_count": 190,
   "metadata": {},
   "outputs": [],
   "source": [
    "new_regular = pd.concat([regular, regular2019_recent[regular.columns]], axis=0)"
   ]
  },
  {
   "cell_type": "code",
   "execution_count": 191,
   "metadata": {},
   "outputs": [
    {
     "data": {
      "text/plain": [
       "(2579, 28)"
      ]
     },
     "execution_count": 191,
     "metadata": {},
     "output_type": "execute_result"
    }
   ],
   "source": [
    "new_regular.shape"
   ]
  },
  {
   "cell_type": "markdown",
   "metadata": {},
   "source": [
    "# preprocessing"
   ]
  },
  {
   "cell_type": "code",
   "execution_count": 192,
   "metadata": {},
   "outputs": [],
   "source": [
    "con = Config()"
   ]
  },
  {
   "cell_type": "code",
   "execution_count": 193,
   "metadata": {},
   "outputs": [
    {
     "name": "stdout",
     "output_type": "stream",
     "text": [
      "features:  ['year', 'batter_name', 'height/weight', 'year_born', 'starting_salary', 'position', 'career', 'SLG', 'OBP', 'OPS', 'AB']\n",
      "cat_features:  ['team']\n",
      "lag_featuers:  ['H', 'HBP', '2B', 'HR', 'SO', 'R', 'RBI', 'AB', 'BB', 'avg', 'SLG', 'OBP', 'E', 'OPS']\n",
      "total_features:  ['H', 'G', 'HBP', 'GDP', '2B', 'HR', 'SO', 'R', 'RBI', 'AB', 'BB']\n",
      "inter_features:  ['Selma(고)', '쿠바 Ciego de Avila Maximo Gomez Baez(대)', '캐나다 A.B Lucas Secondary(고)', '필라델피아', '히로시마', '일본 아세아대', '샌프란시스코', '미국 윌리캐넌초', '미국 쿠퍼고', '미국 페퍼다인대', '미네소타', '볼티모어', '미국 Catawba(대)', '미국 Creighton(대)', '미국 Diamond Bar(고)', '미국 Fort Loramie(고)', '미국 Kentucky(대)', '미국 Las Vegas(대)', '미국 Smithfield', '미국 Texas at Arlington(대)', '미국 Toledo(대)', '미국 Wabash Valley(대)', '미국 레이노사고', '미국 볼주립대', '미국 위스콘신 라크로스대', '도미니카', '도미니카 Elias Rodriguez(고)', '도미니카 산토도밍고고', '도미니카 알레한드로 바쓰고', '도미니카 엘세이보고', '네덜란드 Voorben Praktyk(고)']\n"
     ]
    }
   ],
   "source": [
    "cat_features = con.cat_features\n",
    "lag_features = con.lag_features\n",
    "total_features = con.total_features\n",
    "features = con.features\n",
    "inter_features = con.international\n",
    "names = regular.batter_name.unique()\n",
    "print('features: ',features)\n",
    "print('cat_features: ',cat_features)\n",
    "print('lag_featuers: ',lag_features)\n",
    "print('total_features: ',total_features)\n",
    "print('inter_features: ',inter_features)"
   ]
  },
  {
   "cell_type": "code",
   "execution_count": 194,
   "metadata": {},
   "outputs": [
    {
     "name": "stdout",
     "output_type": "stream",
     "text": [
      "<class 'pandas.core.frame.DataFrame'>\n",
      "Int64Index: 2579 entries, 0 to 219\n",
      "Data columns (total 28 columns):\n",
      "batter_name        2579 non-null object\n",
      "year               2579 non-null int64\n",
      "team               2579 non-null object\n",
      "avg                2334 non-null float64\n",
      "G                  2359 non-null float64\n",
      "AB                 2359 non-null float64\n",
      "R                  2359 non-null float64\n",
      "H                  2359 non-null float64\n",
      "2B                 2359 non-null float64\n",
      "3B                 2359 non-null float64\n",
      "HR                 2359 non-null float64\n",
      "TB                 2359 non-null float64\n",
      "RBI                2359 non-null float64\n",
      "SB                 2359 non-null float64\n",
      "CS                 2359 non-null float64\n",
      "BB                 2359 non-null float64\n",
      "HBP                2359 non-null float64\n",
      "SO                 2359 non-null float64\n",
      "GDP                2359 non-null float64\n",
      "SLG                2334 non-null float64\n",
      "OBP                2336 non-null float64\n",
      "E                  2359 non-null float64\n",
      "height/weight      1855 non-null object\n",
      "year_born          2579 non-null object\n",
      "position           1855 non-null object\n",
      "career             2579 non-null object\n",
      "starting_salary    1548 non-null object\n",
      "OPS                2334 non-null float64\n",
      "dtypes: float64(20), int64(1), object(7)\n",
      "memory usage: 584.3+ KB\n"
     ]
    }
   ],
   "source": [
    "data = new_regular.copy()\n",
    "data.info()"
   ]
  },
  {
   "cell_type": "code",
   "execution_count": 195,
   "metadata": {},
   "outputs": [
    {
     "name": "stderr",
     "output_type": "stream",
     "text": [
      "../code\\preprocessing.py:169: RuntimeWarning: invalid value encountered in double_scalars\n",
      "  new_data.loc[(new_data.batter_name==name) & (new_data.year==y),'BABIP_AVG'] = (total['H'] - total['HR']) / (total['AB'] - total['SO'] - total['HR'] + total['SF'])\n"
     ]
    },
    {
     "name": "stdout",
     "output_type": "stream",
     "text": [
      "## BABIP and BABIP_AVG\n",
      "## diff BABIP\n",
      "## corrected OPS\n",
      "## Add 1B\n"
     ]
    },
    {
     "name": "stderr",
     "output_type": "stream",
     "text": [
      "100%|██████████████████████████████████| 22/22 [01:07<00:00,  3.08s/it]\n"
     ]
    },
    {
     "name": "stdout",
     "output_type": "stream",
     "text": [
      "## lag_n\n"
     ]
    },
    {
     "name": "stderr",
     "output_type": "stream",
     "text": [
      "100%|██████████████████████████████████| 15/15 [00:49<00:00,  3.33s/it]\n"
     ]
    },
    {
     "name": "stdout",
     "output_type": "stream",
     "text": [
      "## total\n",
      "## split_position\n",
      "## fill position\n",
      "## fill na height/weight\n",
      "## height/weight\n",
      "## age\n",
      "## starting_salary\n",
      "## cum_season\n",
      "## OPS_up_down\n",
      "## OBP_up_down\n",
      "## SLG_up_down\n",
      "## grad_status\n",
      "## career_count\n",
      "## from inter\n",
      "## dummy variables\n"
     ]
    }
   ],
   "source": [
    "data.loc[:,'OPS'] = data['OPS'].fillna(0)\n",
    "data.loc[:,'OBP'] = data['OBP'].fillna(0)\n",
    "data.loc[:,'SLG'] = data['SLG'].fillna(0)\n",
    "\n",
    "data = BABIP_and_avg(data,names)\n",
    "lag_features.extend(['TB', 'MH', 'PA', 'RISP', 'BABIP'])\n",
    "total_features.extend(['TB',  'SF', 'MH', 'PA'])\n",
    "print('## BABIP and BABIP_AVG')\n",
    "\n",
    "data = diff_BABIP(data)\n",
    "lag_features.append('BABIP_diff')\n",
    "print('## diff BABIP')\n",
    "\n",
    "data = corrected_OPS(data)\n",
    "lag_features.append('corrected_OPS')\n",
    "print('## corrected OPS')\n",
    "\n",
    "data.loc[:,'1B'] = data['H'] - data['2B'] - data['3B'] - data['HR']\n",
    "lag_features.append('1B')\n",
    "print('## Add 1B')\n",
    "\n",
    "for f in tqdm(range(len(lag_features))):\n",
    "    data.loc[:,'lag_1_' + lag_features[f]] = data.apply(lambda x: lag_n(data, x['batter_name'], x['year'], lag_features[f]), axis=1)\n",
    "print('## lag_n')\n",
    "\n",
    "for f in tqdm(range(len(total_features))):\n",
    "    data.loc[:,'total_' + total_features[f]] = data.apply(lambda x: get_total(data, x['batter_name'], x['year'], total_features[f]), axis=1)\n",
    "print('## total')\n",
    "\n",
    "data = split_position(data)\n",
    "cat_features.extend(['position1'])\n",
    "print('## split_position')\n",
    "data = fill_position1(data)\n",
    "print('## fill position')\n",
    "data = height_weight_fillna(data)\n",
    "print('## fill na height/weight')\n",
    "data = weight_height_(data)\n",
    "print('## height/weight')\n",
    "data = age_(data)\n",
    "print('## age')\n",
    "data = starting_salary_(data)\n",
    "print('## starting_salary')\n",
    "data = cum_season_(data, names)\n",
    "print('## cum_season')\n",
    "\n",
    "data = OPS_up_down(data, names)\n",
    "print('## OPS_up_down')\n",
    "data = OBP_up_down(data, names)\n",
    "print('## OBP_up_down')\n",
    "data = SLG_up_down(data, names)\n",
    "print('## SLG_up_down')\n",
    "data = grad_status_(data)\n",
    "print('## grad_status')\n",
    "data = career_count(data)\n",
    "print('## career_count')\n",
    "data = from_inter_(data, inter_features)\n",
    "print('## from inter')\n",
    "\n",
    "data = categorical_variables(data, cat_features)\n",
    "print('## dummy variables')"
   ]
  },
  {
   "cell_type": "code",
   "execution_count": 224,
   "metadata": {},
   "outputs": [],
   "source": [
    "c1 = ['year', 'height', 'weight', 'age', 'starting_salary', 'cum_season', 'grad_status', 'career_count', 'from_inter']\n",
    "c2 = list()\n",
    "c3 = list()\n",
    "c4 = ['team_KT','team_LG','team_NC','team_SK','team_넥센','team_두산','team_롯데','team_삼성','team_우리','team_한화','team_현대','position1_내야수','position1_외야수','position1_포수']\n",
    "c5 = ['OPS_up','OPS_down','OBP_up','OBP_down','SLG_up','SLG_down']\n",
    "for f in lag_features:\n",
    "    c2.append('lag_1_{}'.format(f))\n",
    "for f in total_features:\n",
    "    c3.append('total_{}'.format(f))"
   ]
  },
  {
   "cell_type": "code",
   "execution_count": 197,
   "metadata": {},
   "outputs": [],
   "source": [
    "target = 'OPS'"
   ]
  },
  {
   "cell_type": "code",
   "execution_count": 225,
   "metadata": {},
   "outputs": [],
   "source": [
    "c = c1 + c2 + c3 + c4 + c5"
   ]
  },
  {
   "cell_type": "markdown",
   "metadata": {},
   "source": [
    "# split data"
   ]
  },
  {
   "cell_type": "code",
   "execution_count": 226,
   "metadata": {},
   "outputs": [],
   "source": [
    "use_data = data[c]"
   ]
  },
  {
   "cell_type": "code",
   "execution_count": 227,
   "metadata": {},
   "outputs": [
    {
     "data": {
      "text/plain": [
       "(2579, 66)"
      ]
     },
     "execution_count": 227,
     "metadata": {},
     "output_type": "execute_result"
    }
   ],
   "source": [
    "use_data.shape"
   ]
  },
  {
   "cell_type": "code",
   "execution_count": 228,
   "metadata": {},
   "outputs": [],
   "source": [
    "x_train = data[data.year<2017][c]\n",
    "y_train = data[data.year<2017][['OPS','AB']]\n",
    "x_valid = data[data.year==2017][c]\n",
    "y_valid = data[data.year==2017][['OPS','AB']]\n",
    "x_test = data[data.year==2018][c]\n",
    "y_test = data[data.year==2018][['OPS','AB']]\n",
    "x_submit = data[data.year==2019][c]\n",
    "y_submit = data[data.year==2019]['OPS']"
   ]
  },
  {
   "cell_type": "code",
   "execution_count": 229,
   "metadata": {},
   "outputs": [],
   "source": [
    "x_train = x_train.drop('year',axis=1)\n",
    "x_valid = x_valid.drop('year',axis=1)\n",
    "x_test = x_test.drop('year',axis=1)\n",
    "x_submit = x_submit.drop('year',axis=1)"
   ]
  },
  {
   "cell_type": "markdown",
   "metadata": {},
   "source": [
    "# XGboost"
   ]
  },
  {
   "cell_type": "code",
   "execution_count": 230,
   "metadata": {},
   "outputs": [
    {
     "name": "stdout",
     "output_type": "stream",
     "text": [
      "<class 'pandas.core.frame.DataFrame'>\n",
      "Int64Index: 1915 entries, 1 to 2356\n",
      "Data columns (total 65 columns):\n",
      "height                 1915 non-null float64\n",
      "weight                 1915 non-null float64\n",
      "age                    1915 non-null int64\n",
      "starting_salary        1915 non-null float64\n",
      "cum_season             1915 non-null float64\n",
      "grad_status            1915 non-null int64\n",
      "career_count           1915 non-null int64\n",
      "from_inter             1915 non-null int64\n",
      "lag_1_H                1442 non-null float64\n",
      "lag_1_HBP              1442 non-null float64\n",
      "lag_1_2B               1442 non-null float64\n",
      "lag_1_HR               1442 non-null float64\n",
      "lag_1_SO               1442 non-null float64\n",
      "lag_1_R                1442 non-null float64\n",
      "lag_1_RBI              1442 non-null float64\n",
      "lag_1_AB               1442 non-null float64\n",
      "lag_1_BB               1442 non-null float64\n",
      "lag_1_avg              1431 non-null float64\n",
      "lag_1_SLG              1442 non-null float64\n",
      "lag_1_OBP              1442 non-null float64\n",
      "lag_1_E                1442 non-null float64\n",
      "lag_1_OPS              1442 non-null float64\n",
      "lag_1_TB               1442 non-null float64\n",
      "lag_1_MH               1395 non-null float64\n",
      "lag_1_PA               1395 non-null float64\n",
      "lag_1_RISP             1395 non-null float64\n",
      "lag_1_BABIP            1373 non-null float64\n",
      "lag_1_BABIP_diff       1442 non-null float64\n",
      "lag_1_corrected_OPS    1442 non-null float64\n",
      "lag_1_1B               1442 non-null float64\n",
      "total_H                1606 non-null float64\n",
      "total_G                1606 non-null float64\n",
      "total_HBP              1606 non-null float64\n",
      "total_GDP              1606 non-null float64\n",
      "total_2B               1606 non-null float64\n",
      "total_HR               1606 non-null float64\n",
      "total_SO               1606 non-null float64\n",
      "total_R                1606 non-null float64\n",
      "total_RBI              1606 non-null float64\n",
      "total_AB               1606 non-null float64\n",
      "total_BB               1606 non-null float64\n",
      "total_TB               1606 non-null float64\n",
      "total_SF               1606 non-null float64\n",
      "total_MH               1606 non-null float64\n",
      "total_PA               1606 non-null float64\n",
      "team_KT                1915 non-null uint8\n",
      "team_LG                1915 non-null uint8\n",
      "team_NC                1915 non-null uint8\n",
      "team_SK                1915 non-null uint8\n",
      "team_넥센                1915 non-null uint8\n",
      "team_두산                1915 non-null uint8\n",
      "team_롯데                1915 non-null uint8\n",
      "team_삼성                1915 non-null uint8\n",
      "team_우리                1915 non-null uint8\n",
      "team_한화                1915 non-null uint8\n",
      "team_현대                1915 non-null uint8\n",
      "position1_내야수          1915 non-null uint8\n",
      "position1_외야수          1915 non-null uint8\n",
      "position1_포수           1915 non-null uint8\n",
      "OPS_up                 1915 non-null float64\n",
      "OPS_down               1915 non-null float64\n",
      "OBP_up                 1915 non-null float64\n",
      "OBP_down               1915 non-null float64\n",
      "SLG_up                 1915 non-null float64\n",
      "SLG_down               1915 non-null float64\n",
      "dtypes: float64(47), int64(4), uint8(14)\n",
      "memory usage: 804.2 KB\n"
     ]
    }
   ],
   "source": [
    "x_train.info()"
   ]
  },
  {
   "cell_type": "code",
   "execution_count": 233,
   "metadata": {},
   "outputs": [],
   "source": [
    "params = {\n",
    "    \"learning_rate\": 0.1,\n",
    "    \"n_estimators\": 10000,\n",
    "    \"max_depth\": 4,\n",
    "    \"min_child_weight\": 6,\n",
    "    \"subsample\": 0.8,\n",
    "    \"colsample_bytree\": 0.8,\n",
    "    \"colsample_bylevel\": 0.8,\n",
    "    \"alpha\": 0,\n",
    "    \"lambda\": 1,\n",
    "    \"objective\": \"gpu:reg:linear\",\n",
    "    \"tree_method\": \"gpu_hist\",\n",
    "    \"predictor\": \"gpu_predictor\",\n",
    "    \"eval_metric\":\"rmse\"\n",
    "}"
   ]
  },
  {
   "cell_type": "code",
   "execution_count": 236,
   "metadata": {},
   "outputs": [
    {
     "name": "stdout",
     "output_type": "stream",
     "text": [
      "[0]\tvalidation_0-rmse:0.29138\tvalidation_1-rmse:0.273738\n",
      "Multiple eval metrics have been passed: 'validation_1-rmse' will be used for early stopping.\n",
      "\n",
      "Will train until validation_1-rmse hasn't improved in 50 rounds.\n",
      "[50]\tvalidation_0-rmse:0.245961\tvalidation_1-rmse:0.213616\n",
      "Stopping. Best iteration:\n",
      "[14]\tvalidation_0-rmse:0.251347\tvalidation_1-rmse:0.209879\n",
      "\n",
      "test WRMSE: 0.130431\n",
      "test RMSE: 0.219539\n"
     ]
    }
   ],
   "source": [
    "model = xgb.XGBRegressor(**params)\n",
    "\n",
    "model.fit(x_train, y_train[target],\n",
    "          eval_set=[(x_train, y_train[target]), (x_valid, y_valid[target])],\n",
    "          early_stopping_rounds=50,\n",
    "          sample_weight=y_train['AB'],\n",
    "          verbose=50)\n",
    "prob = model.predict(x_test, ntree_limit=model.best_iteration)\n",
    "e = wrmse(y_test[target], prob, y_test['AB'])\n",
    "e2 = rmse(y_test[target], prob)\n",
    "print('test WRMSE: {0:.6f}'.format(e))\n",
    "print('test RMSE: {0:.6f}'.format(e2))"
   ]
  },
  {
   "cell_type": "code",
   "execution_count": 237,
   "metadata": {},
   "outputs": [],
   "source": [
    "x_2017 = pd.concat([x_train, x_valid], axis=0)\n",
    "y_2017 = pd.concat([y_train, y_valid], axis=0)"
   ]
  },
  {
   "cell_type": "code",
   "execution_count": 238,
   "metadata": {},
   "outputs": [
    {
     "name": "stdout",
     "output_type": "stream",
     "text": [
      "(2132, 65)\n",
      "(2132, 2)\n"
     ]
    }
   ],
   "source": [
    "print(x_2017.shape)\n",
    "print(y_2017.shape)"
   ]
  },
  {
   "cell_type": "code",
   "execution_count": 239,
   "metadata": {},
   "outputs": [
    {
     "name": "stdout",
     "output_type": "stream",
     "text": [
      "[0]\tvalidation_0-rmse:0.289671\tvalidation_1-rmse:0.284927\n",
      "Multiple eval metrics have been passed: 'validation_1-rmse' will be used for early stopping.\n",
      "\n",
      "Will train until validation_1-rmse hasn't improved in 500 rounds.\n",
      "[50]\tvalidation_0-rmse:0.242728\tvalidation_1-rmse:0.218443\n",
      "[100]\tvalidation_0-rmse:0.232236\tvalidation_1-rmse:0.214178\n",
      "[150]\tvalidation_0-rmse:0.224038\tvalidation_1-rmse:0.211689\n",
      "[200]\tvalidation_0-rmse:0.216936\tvalidation_1-rmse:0.208658\n",
      "[250]\tvalidation_0-rmse:0.210304\tvalidation_1-rmse:0.208185\n",
      "[300]\tvalidation_0-rmse:0.205445\tvalidation_1-rmse:0.207608\n",
      "[350]\tvalidation_0-rmse:0.201095\tvalidation_1-rmse:0.207594\n",
      "[400]\tvalidation_0-rmse:0.197037\tvalidation_1-rmse:0.209579\n",
      "[450]\tvalidation_0-rmse:0.193164\tvalidation_1-rmse:0.208968\n",
      "[500]\tvalidation_0-rmse:0.189911\tvalidation_1-rmse:0.20862\n",
      "[550]\tvalidation_0-rmse:0.186419\tvalidation_1-rmse:0.209237\n",
      "[600]\tvalidation_0-rmse:0.182856\tvalidation_1-rmse:0.209419\n",
      "[650]\tvalidation_0-rmse:0.179699\tvalidation_1-rmse:0.209326\n",
      "[700]\tvalidation_0-rmse:0.176335\tvalidation_1-rmse:0.208929\n",
      "[750]\tvalidation_0-rmse:0.174179\tvalidation_1-rmse:0.208124\n",
      "[800]\tvalidation_0-rmse:0.172406\tvalidation_1-rmse:0.208671\n",
      "Stopping. Best iteration:\n",
      "[314]\tvalidation_0-rmse:0.203901\tvalidation_1-rmse:0.206811\n",
      "\n"
     ]
    }
   ],
   "source": [
    "model = xgb.XGBRegressor(**params)\n",
    "\n",
    "model.fit(x_2017, y_2017[target],\n",
    "          eval_set=[(x_2017, y_2017[target]), (x_test, y_test[target])],\n",
    "          early_stopping_rounds=500,\n",
    "          sample_weight=y_2017['AB'],\n",
    "          verbose=50)\n",
    "prob = model.predict(x_submit, ntree_limit=model.best_iteration)"
   ]
  },
  {
   "cell_type": "code",
   "execution_count": 209,
   "metadata": {},
   "outputs": [
    {
     "data": {
      "text/plain": [
       "(220, 106)"
      ]
     },
     "execution_count": 209,
     "metadata": {},
     "output_type": "execute_result"
    }
   ],
   "source": [
    "data[data.year==2019].shape"
   ]
  },
  {
   "cell_type": "code",
   "execution_count": 222,
   "metadata": {},
   "outputs": [
    {
     "name": "stdout",
     "output_type": "stream",
     "text": [
      "batter_name\n",
      "year\n",
      "team\n",
      "avg\n",
      "G\n",
      "AB\n",
      "R\n",
      "H\n",
      "2B\n",
      "3B\n",
      "HR\n",
      "TB\n",
      "RBI\n",
      "SB\n",
      "CS\n",
      "BB\n",
      "HBP\n",
      "SO\n",
      "GDP\n",
      "SLG\n",
      "OBP\n",
      "E\n",
      "height/weight\n",
      "year_born\n",
      "position\n",
      "career\n",
      "starting_salary\n",
      "OPS\n",
      "MH\n",
      "SF\n",
      "IBB\n",
      "SAC\n",
      "PH-BA\n",
      "PA\n",
      "RISP\n",
      "BABIP\n",
      "BABIP_AVG\n",
      "BABIP_diff\n",
      "corrected_OPS\n",
      "1B\n",
      "lag_1_H\n",
      "lag_1_HBP\n",
      "lag_1_2B\n",
      "lag_1_HR\n",
      "lag_1_SO\n",
      "lag_1_R\n",
      "lag_1_RBI\n",
      "lag_1_AB\n",
      "lag_1_BB\n",
      "lag_1_avg\n",
      "lag_1_SLG\n",
      "lag_1_OBP\n",
      "lag_1_E\n",
      "lag_1_OPS\n",
      "lag_1_TB\n",
      "lag_1_MH\n",
      "lag_1_PA\n",
      "lag_1_RISP\n",
      "lag_1_BABIP\n",
      "lag_1_BABIP_diff\n",
      "lag_1_corrected_OPS\n",
      "lag_1_1B\n",
      "total_H\n",
      "total_G\n",
      "total_HBP\n",
      "total_GDP\n",
      "total_2B\n",
      "total_HR\n",
      "total_SO\n",
      "total_R\n",
      "total_RBI\n",
      "total_AB\n",
      "total_BB\n",
      "total_TB\n",
      "total_SF\n",
      "total_MH\n",
      "total_PA\n",
      "position1\n",
      "position2\n",
      "height\n",
      "weight\n",
      "age\n",
      "cum_season\n",
      "OPS_up\n",
      "OPS_down\n",
      "OBP_up\n",
      "OBP_down\n",
      "SLG_up\n",
      "SLG_down\n",
      "grad_status\n",
      "career_count\n",
      "from_inter\n",
      "team_KT\n",
      "team_LG\n",
      "team_NC\n",
      "team_SK\n",
      "team_넥센\n",
      "team_두산\n",
      "team_롯데\n",
      "team_삼성\n",
      "team_우리\n",
      "team_한화\n",
      "team_현대\n",
      "position1_내야수\n",
      "position1_외야수\n",
      "position1_포수\n"
     ]
    }
   ],
   "source": [
    "for c in data.columns:\n",
    "    print(c)"
   ]
  },
  {
   "cell_type": "code",
   "execution_count": 219,
   "metadata": {},
   "outputs": [
    {
     "name": "stdout",
     "output_type": "stream",
     "text": [
      "<class 'pandas.core.frame.DataFrame'>\n",
      "Int64Index: 2132 entries, 1 to 2357\n",
      "Data columns (total 58 columns):\n",
      "height                 2132 non-null float64\n",
      "weight                 2132 non-null float64\n",
      "age                    2132 non-null int64\n",
      "cum_season             2132 non-null float64\n",
      "grad_status            2132 non-null int64\n",
      "career_count           2132 non-null int64\n",
      "from_inter             2132 non-null int64\n",
      "lag_1_H                1624 non-null float64\n",
      "lag_1_HBP              1624 non-null float64\n",
      "lag_1_2B               1624 non-null float64\n",
      "lag_1_HR               1624 non-null float64\n",
      "lag_1_SO               1624 non-null float64\n",
      "lag_1_R                1624 non-null float64\n",
      "lag_1_RBI              1624 non-null float64\n",
      "lag_1_AB               1624 non-null float64\n",
      "lag_1_BB               1624 non-null float64\n",
      "lag_1_avg              1613 non-null float64\n",
      "lag_1_SLG              1624 non-null float64\n",
      "lag_1_OBP              1624 non-null float64\n",
      "lag_1_E                1624 non-null float64\n",
      "lag_1_OPS              1624 non-null float64\n",
      "lag_1_TB               1624 non-null float64\n",
      "lag_1_MH               1575 non-null float64\n",
      "lag_1_PA               1575 non-null float64\n",
      "lag_1_RISP             1575 non-null float64\n",
      "lag_1_BABIP            1553 non-null float64\n",
      "lag_1_BABIP_diff       1624 non-null float64\n",
      "lag_1_corrected_OPS    1624 non-null float64\n",
      "lag_1_1B               1624 non-null float64\n",
      "total_H                1803 non-null float64\n",
      "total_G                1803 non-null float64\n",
      "total_HBP              1803 non-null float64\n",
      "total_GDP              1803 non-null float64\n",
      "total_2B               1803 non-null float64\n",
      "total_HR               1803 non-null float64\n",
      "total_SO               1803 non-null float64\n",
      "total_R                1803 non-null float64\n",
      "total_RBI              1803 non-null float64\n",
      "total_AB               1803 non-null float64\n",
      "total_BB               1803 non-null float64\n",
      "total_TB               1803 non-null float64\n",
      "total_SF               1803 non-null float64\n",
      "total_MH               1803 non-null float64\n",
      "total_PA               1803 non-null float64\n",
      "team_KT                2132 non-null uint8\n",
      "team_LG                2132 non-null uint8\n",
      "team_NC                2132 non-null uint8\n",
      "team_SK                2132 non-null uint8\n",
      "team_넥센                2132 non-null uint8\n",
      "team_두산                2132 non-null uint8\n",
      "team_롯데                2132 non-null uint8\n",
      "team_삼성                2132 non-null uint8\n",
      "team_우리                2132 non-null uint8\n",
      "team_한화                2132 non-null uint8\n",
      "team_현대                2132 non-null uint8\n",
      "position1_내야수          2132 non-null uint8\n",
      "position1_외야수          2132 non-null uint8\n",
      "position1_포수           2132 non-null uint8\n",
      "dtypes: float64(40), int64(4), uint8(14)\n",
      "memory usage: 778.7 KB\n"
     ]
    }
   ],
   "source": [
    "x_2017.info()"
   ]
  },
  {
   "cell_type": "code",
   "execution_count": 210,
   "metadata": {},
   "outputs": [
    {
     "data": {
      "text/plain": [
       "(220,)"
      ]
     },
     "execution_count": 210,
     "metadata": {},
     "output_type": "execute_result"
    }
   ],
   "source": [
    "\n",
    "prob.shape"
   ]
  },
  {
   "cell_type": "code",
   "execution_count": 211,
   "metadata": {},
   "outputs": [],
   "source": [
    "submit.loc[:,'OPS'] = prob"
   ]
  },
  {
   "cell_type": "code",
   "execution_count": 216,
   "metadata": {},
   "outputs": [],
   "source": [
    "submit.drop('year',axis=1).reset_index().to_csv('../submit1.csv',index=False)"
   ]
  },
  {
   "cell_type": "code",
   "execution_count": null,
   "metadata": {},
   "outputs": [],
   "source": []
  }
 ],
 "metadata": {
  "kernelspec": {
   "display_name": "Python 3",
   "language": "python",
   "name": "python3"
  },
  "language_info": {
   "codemirror_mode": {
    "name": "ipython",
    "version": 3
   },
   "file_extension": ".py",
   "mimetype": "text/x-python",
   "name": "python",
   "nbconvert_exporter": "python",
   "pygments_lexer": "ipython3",
   "version": "3.6.5"
  }
 },
 "nbformat": 4,
 "nbformat_minor": 2
}
