{
 "cells": [
  {
   "cell_type": "code",
   "execution_count": 7,
   "metadata": {},
   "outputs": [],
   "source": [
    "import pandas as pd\n",
    "import numpy as np \n",
    "\n",
    "import matplotlib.pyplot as plt\n",
    "import matplotlib as mpl\n",
    "plt.style.use('fivethirtyeight')\n",
    "import seaborn as sns\n",
    "\n",
    "# font\n",
    "from matplotlib import font_manager, rc\n",
    "font_name = font_manager.FontProperties(fname=\"c:/Windows/Fonts/malgun.ttf\").get_name()\n",
    "rc('font', family=font_name)\n",
    "font_manager._rebuild()\n",
    "mpl.rcParams['axes.unicode_minus'] = False"
   ]
  },
  {
   "cell_type": "code",
   "execution_count": 8,
   "metadata": {},
   "outputs": [
    {
     "name": "stdout",
     "output_type": "stream",
     "text": [
      "credit shape:  (3888, 26)\n",
      "jeju shape:  (10422, 27)\n"
     ]
    }
   ],
   "source": [
    "credit = pd.read_csv('../dataset/credit_card_data.csv')\n",
    "jeju = pd.read_csv('../dataset/jeju_financial_life_data.csv')\n",
    "print('credit shape: ',credit.shape)\n",
    "print('jeju shape: ',jeju.shape)"
   ]
  },
  {
   "cell_type": "code",
   "execution_count": 10,
   "metadata": {},
   "outputs": [
    {
     "name": "stdout",
     "output_type": "stream",
     "text": [
      "<class 'pandas.core.frame.DataFrame'>\n",
      "RangeIndex: 10422 entries, 0 to 10421\n",
      "Data columns (total 27 columns):\n",
      "zip_cd                 10422 non-null int64\n",
      "year_month             10422 non-null int64\n",
      "x_axis                 10422 non-null float64\n",
      "y_axis                 10422 non-null float64\n",
      "sex                    10422 non-null int64\n",
      "age                    10422 non-null int64\n",
      "job_majorc             10422 non-null float64\n",
      "job_smallc             10422 non-null float64\n",
      "job_public             10422 non-null float64\n",
      "job_profession         10422 non-null float64\n",
      "job_self               10422 non-null float64\n",
      "job_none               10422 non-null float64\n",
      "job_other              10422 non-null float64\n",
      "avg_income             10422 non-null int64\n",
      "med_income             10422 non-null int64\n",
      "avg_spend              10422 non-null int64\n",
      "avg_foreign_spend      10422 non-null int64\n",
      "avg_debt               10422 non-null int64\n",
      "avg_debt_credit        10422 non-null int64\n",
      "avg_debt_noneb         10422 non-null int64\n",
      "avg_debt_mortgage      10422 non-null int64\n",
      "avg_debt_deposit       10422 non-null int64\n",
      "avg_debt_collateral    10422 non-null int64\n",
      "avg_credit_rat         10422 non-null int64\n",
      "medium_resid_rat       10422 non-null float64\n",
      "large_resid_rat        10422 non-null float64\n",
      "vehicle_own_rat        10422 non-null float64\n",
      "dtypes: float64(12), int64(15)\n",
      "memory usage: 2.1 MB\n"
     ]
    }
   ],
   "source": [
    "jeju.info()"
   ]
  }
 ],
 "metadata": {
  "hide_input": false,
  "kernelspec": {
   "display_name": "Python 3",
   "language": "python",
   "name": "python3"
  },
  "language_info": {
   "codemirror_mode": {
    "name": "ipython",
    "version": 3
   },
   "file_extension": ".py",
   "mimetype": "text/x-python",
   "name": "python",
   "nbconvert_exporter": "python",
   "pygments_lexer": "ipython3",
   "version": "3.6.8"
  },
  "toc": {
   "base_numbering": 1,
   "nav_menu": {},
   "number_sections": true,
   "sideBar": true,
   "skip_h1_title": false,
   "title_cell": "Table of Contents",
   "title_sidebar": "Contents",
   "toc_cell": false,
   "toc_position": {},
   "toc_section_display": true,
   "toc_window_display": false
  },
  "varInspector": {
   "cols": {
    "lenName": 16,
    "lenType": 16,
    "lenVar": 40
   },
   "kernels_config": {
    "python": {
     "delete_cmd_postfix": "",
     "delete_cmd_prefix": "del ",
     "library": "var_list.py",
     "varRefreshCmd": "print(var_dic_list())"
    },
    "r": {
     "delete_cmd_postfix": ") ",
     "delete_cmd_prefix": "rm(",
     "library": "var_list.r",
     "varRefreshCmd": "cat(var_dic_list()) "
    }
   },
   "types_to_exclude": [
    "module",
    "function",
    "builtin_function_or_method",
    "instance",
    "_Feature"
   ],
   "window_display": false
  }
 },
 "nbformat": 4,
 "nbformat_minor": 2
}
