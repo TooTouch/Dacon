{
 "cells": [
  {
   "cell_type": "markdown",
   "metadata": {
    "toc": true
   },
   "source": [
    "<h1>Table of Contents<span class=\"tocSkip\"></span></h1>\n",
    "<div class=\"toc\"><ul class=\"toc-item\"><li><span><a href=\"#Regular_Season_Batter\" data-toc-modified-id=\"Regular_Season_Batter-1\"><span class=\"toc-item-num\">1&nbsp;&nbsp;</span>Regular_Season_Batter</a></span></li><li><span><a href=\"#preprocessing\" data-toc-modified-id=\"preprocessing-2\"><span class=\"toc-item-num\">2&nbsp;&nbsp;</span>preprocessing</a></span><ul class=\"toc-item\"><li><span><a href=\"#pre_season_concat\" data-toc-modified-id=\"pre_season_concat-2.1\"><span class=\"toc-item-num\">2.1&nbsp;&nbsp;</span>pre_season_concat</a></span></li><li><span><a href=\"#weight,-height\" data-toc-modified-id=\"weight,-height-2.2\"><span class=\"toc-item-num\">2.2&nbsp;&nbsp;</span>weight, height</a></span></li><li><span><a href=\"#키몸무게-결측치-채우기\" data-toc-modified-id=\"키몸무게-결측치-채우기-2.3\"><span class=\"toc-item-num\">2.3&nbsp;&nbsp;</span>키몸무게 결측치 채우기</a></span></li><li><span><a href=\"#age\" data-toc-modified-id=\"age-2.4\"><span class=\"toc-item-num\">2.4&nbsp;&nbsp;</span>age</a></span></li><li><span><a href=\"#starting-salary\" data-toc-modified-id=\"starting-salary-2.5\"><span class=\"toc-item-num\">2.5&nbsp;&nbsp;</span>starting salary</a></span></li><li><span><a href=\"#Lag_n\" data-toc-modified-id=\"Lag_n-2.6\"><span class=\"toc-item-num\">2.6&nbsp;&nbsp;</span>Lag_n</a></span></li><li><span><a href=\"#통산-data\" data-toc-modified-id=\"통산-data-2.7\"><span class=\"toc-item-num\">2.7&nbsp;&nbsp;</span>통산 data</a></span></li><li><span><a href=\"#누적-시즌-참여-횟수\" data-toc-modified-id=\"누적-시즌-참여-횟수-2.8\"><span class=\"toc-item-num\">2.8&nbsp;&nbsp;</span>누적 시즌 참여 횟수</a></span></li><li><span><a href=\"#시즌별-최대-연속-출장-경기\" data-toc-modified-id=\"시즌별-최대-연속-출장-경기-2.9\"><span class=\"toc-item-num\">2.9&nbsp;&nbsp;</span>시즌별 최대 연속 출장 경기</a></span></li><li><span><a href=\"#역대-OPS-추세\" data-toc-modified-id=\"역대-OPS-추세-2.10\"><span class=\"toc-item-num\">2.10&nbsp;&nbsp;</span>역대 OPS 추세</a></span></li><li><span><a href=\"#역대-OBP-추세\" data-toc-modified-id=\"역대-OBP-추세-2.11\"><span class=\"toc-item-num\">2.11&nbsp;&nbsp;</span>역대 OBP 추세</a></span></li><li><span><a href=\"#역대-SLG-추세\" data-toc-modified-id=\"역대-SLG-추세-2.12\"><span class=\"toc-item-num\">2.12&nbsp;&nbsp;</span>역대 SLG 추세</a></span></li><li><span><a href=\"#역대-OPS-상승-수-하락-수\" data-toc-modified-id=\"역대-OPS-상승-수-하락-수-2.13\"><span class=\"toc-item-num\">2.13&nbsp;&nbsp;</span>역대 OPS 상승 수 하락 수</a></span></li><li><span><a href=\"#역대-OBP-상승-수-하락-수\" data-toc-modified-id=\"역대-OBP-상승-수-하락-수-2.14\"><span class=\"toc-item-num\">2.14&nbsp;&nbsp;</span>역대 OBP 상승 수 하락 수</a></span></li><li><span><a href=\"#역대-SLG-상승-수-하락-수\" data-toc-modified-id=\"역대-SLG-상승-수-하락-수-2.15\"><span class=\"toc-item-num\">2.15&nbsp;&nbsp;</span>역대 SLG 상승 수 하락 수</a></span></li><li><span><a href=\"#Career-개수\" data-toc-modified-id=\"Career-개수-2.16\"><span class=\"toc-item-num\">2.16&nbsp;&nbsp;</span>Career 개수</a></span></li><li><span><a href=\"#Career-고졸,-대졸-여부\" data-toc-modified-id=\"Career-고졸,-대졸-여부-2.17\"><span class=\"toc-item-num\">2.17&nbsp;&nbsp;</span>Career 고졸, 대졸 여부</a></span></li><li><span><a href=\"#지난-시즌-팀별-투수-순위\" data-toc-modified-id=\"지난-시즌-팀별-투수-순위-2.18\"><span class=\"toc-item-num\">2.18&nbsp;&nbsp;</span>지난 시즌 팀별 투수 순위</a></span></li><li><span><a href=\"#Split-position\" data-toc-modified-id=\"Split-position-2.19\"><span class=\"toc-item-num\">2.19&nbsp;&nbsp;</span>Split position</a></span></li><li><span><a href=\"#국내파,-해외파\" data-toc-modified-id=\"국내파,-해외파-2.20\"><span class=\"toc-item-num\">2.20&nbsp;&nbsp;</span>국내파, 해외파</a></span></li><li><span><a href=\"#전-시즌-데이터-사용\" data-toc-modified-id=\"전-시즌-데이터-사용-2.21\"><span class=\"toc-item-num\">2.21&nbsp;&nbsp;</span>전 시즌 데이터 사용</a></span></li><li><span><a href=\"#전-시즌-데이터-추세\" data-toc-modified-id=\"전-시즌-데이터-추세-2.22\"><span class=\"toc-item-num\">2.22&nbsp;&nbsp;</span>전 시즌 데이터 추세</a></span></li><li><span><a href=\"#Autocorrelation\" data-toc-modified-id=\"Autocorrelation-2.23\"><span class=\"toc-item-num\">2.23&nbsp;&nbsp;</span>Autocorrelation</a></span></li><li><span><a href=\"#Position,-team\" data-toc-modified-id=\"Position,-team-2.24\"><span class=\"toc-item-num\">2.24&nbsp;&nbsp;</span>Position, team</a></span></li><li><span><a href=\"#Missing-value\" data-toc-modified-id=\"Missing-value-2.25\"><span class=\"toc-item-num\">2.25&nbsp;&nbsp;</span>Missing value</a></span></li><li><span><a href=\"#Drop-feature\" data-toc-modified-id=\"Drop-feature-2.26\"><span class=\"toc-item-num\">2.26&nbsp;&nbsp;</span>Drop feature</a></span></li></ul></li></ul></div>"
   ]
  },
  {
   "cell_type": "code",
   "execution_count": 3,
   "metadata": {},
   "outputs": [],
   "source": [
    "import pandas as pd\n",
    "import numpy as np\n",
    "import os\n",
    "import matplotlib.pyplot as plt\n",
    "import seaborn as sns\n",
    "\n",
    "from tqdm import tqdm\n",
    "from sklearn.preprocessing import LabelEncoder\n",
    "\n",
    "import xgboost as xgb"
   ]
  },
  {
   "cell_type": "code",
   "execution_count": 4,
   "metadata": {},
   "outputs": [],
   "source": [
    "def dummy_feature(df, variables):\n",
    "    dummies = pd.DataFrame()\n",
    "    for var in variables:\n",
    "        dummy = pd.get_dummies(df[var], prefix=var, drop_first=True)\n",
    "        dummies = pd.concat([dummies, dummy], axis=1)\n",
    "    df = pd.concat([df, dummies], axis=1)\n",
    "    return df"
   ]
  },
  {
   "cell_type": "markdown",
   "metadata": {},
   "source": [
    "# Regular_Season_Batter"
   ]
  },
  {
   "cell_type": "code",
   "execution_count": 5,
   "metadata": {},
   "outputs": [
    {
     "data": {
      "text/plain": [
       "(2454, 28)"
      ]
     },
     "execution_count": 5,
     "metadata": {},
     "output_type": "execute_result"
    }
   ],
   "source": [
    "data1 = pd.read_csv('../dataset/Regular_Season_Batter.csv', index_col=0)\n",
    "data2 = pd.read_csv('../dataset/Regular_Season_Batter_Day_by_Day.csv', index_col=0)\n",
    "\n",
    "data_temp = data1.copy()\n",
    "data1.shape"
   ]
  },
  {
   "cell_type": "code",
   "execution_count": 6,
   "metadata": {},
   "outputs": [
    {
     "name": "stdout",
     "output_type": "stream",
     "text": [
      "<class 'pandas.core.frame.DataFrame'>\n",
      "Int64Index: 2454 entries, 0 to 344\n",
      "Data columns (total 28 columns):\n",
      "batter_name        2454 non-null object\n",
      "year               2454 non-null int64\n",
      "team               2454 non-null object\n",
      "avg                2428 non-null float64\n",
      "G                  2454 non-null int64\n",
      "AB                 2454 non-null int64\n",
      "R                  2454 non-null int64\n",
      "H                  2454 non-null int64\n",
      "2B                 2454 non-null int64\n",
      "3B                 2454 non-null int64\n",
      "HR                 2454 non-null int64\n",
      "TB                 2454 non-null int64\n",
      "RBI                2454 non-null int64\n",
      "SB                 2454 non-null int64\n",
      "CS                 2454 non-null int64\n",
      "BB                 2454 non-null int64\n",
      "HBP                2454 non-null int64\n",
      "SO                 2454 non-null int64\n",
      "GDP                2454 non-null int64\n",
      "SLG                2428 non-null float64\n",
      "OBP                2430 non-null float64\n",
      "E                  2454 non-null int64\n",
      "height/weight      1652 non-null object\n",
      "year_born          2454 non-null object\n",
      "position           1652 non-null object\n",
      "career             2454 non-null object\n",
      "starting_salary    1387 non-null object\n",
      "OPS                2428 non-null float64\n",
      "dtypes: float64(4), int64(17), object(7)\n",
      "memory usage: 556.0+ KB\n"
     ]
    }
   ],
   "source": [
    "data1.info()"
   ]
  },
  {
   "cell_type": "markdown",
   "metadata": {},
   "source": [
    "# preprocessing"
   ]
  },
  {
   "cell_type": "markdown",
   "metadata": {},
   "source": [
    "## pre_season_concat\n",
    "- 0: pre_season, 1: regular_season"
   ]
  },
  {
   "cell_type": "code",
   "execution_count": 16,
   "metadata": {},
   "outputs": [],
   "source": [
    "def pre_season_concat(data):\n",
    "    pre = pd.read_csv('../dataset/Pre_Season_Batter.csv', index_col=0)\n",
    "    pre.loc[:,'season'] = '0'\n",
    "    data.loc[:,'season'] = '1'\n",
    "    data = pd.concat([data,pre], axis=0)\n",
    "    return data"
   ]
  },
  {
   "cell_type": "code",
   "execution_count": 17,
   "metadata": {},
   "outputs": [
    {
     "name": "stdout",
     "output_type": "stream",
     "text": [
      "<class 'pandas.core.frame.DataFrame'>\n",
      "Int64Index: 3847 entries, 0 to 344\n",
      "Data columns (total 29 columns):\n",
      "batter_name        3847 non-null object\n",
      "year               3847 non-null int64\n",
      "team               3847 non-null object\n",
      "avg                3821 non-null object\n",
      "G                  3847 non-null int64\n",
      "AB                 3847 non-null int64\n",
      "R                  3847 non-null int64\n",
      "H                  3847 non-null int64\n",
      "2B                 3847 non-null int64\n",
      "3B                 3847 non-null int64\n",
      "HR                 3847 non-null int64\n",
      "TB                 3847 non-null int64\n",
      "RBI                3847 non-null int64\n",
      "SB                 3847 non-null int64\n",
      "CS                 3847 non-null int64\n",
      "BB                 3847 non-null int64\n",
      "HBP                3847 non-null int64\n",
      "SO                 3847 non-null int64\n",
      "GDP                3847 non-null int64\n",
      "SLG                3792 non-null float64\n",
      "OBP                3798 non-null float64\n",
      "E                  3847 non-null int64\n",
      "height/weight      3045 non-null object\n",
      "year_born          3847 non-null object\n",
      "position           3045 non-null object\n",
      "career             3847 non-null object\n",
      "starting_salary    2566 non-null object\n",
      "OPS                3792 non-null float64\n",
      "season             3847 non-null object\n",
      "dtypes: float64(3), int64(17), object(9)\n",
      "memory usage: 901.6+ KB\n"
     ]
    }
   ],
   "source": [
    "data_temp = data1.copy()\n",
    "data_temp = pre_season_concat(data_temp)"
   ]
  },
  {
   "cell_type": "markdown",
   "metadata": {},
   "source": [
    "## weight, height\n",
    "- 키, 몸무게가 결측치인 선수가 101명..."
   ]
  },
  {
   "cell_type": "code",
   "execution_count": 11,
   "metadata": {},
   "outputs": [],
   "source": [
    "def weight_height_(data):\n",
    "    data.loc[:, 'height'] = data['height/weight'].apply(lambda x: np.nan if str(x) == 'nan' else x.split('/')[0][:3]).astype(float)\n",
    "    data.loc[:, 'weight'] = data['height/weight'].apply(lambda x: np.nan if str(x) == 'nan' else x.split('/')[1][:-2]).astype(float)\n",
    "    data.height = data.height.fillna(np.median(data.height.dropna()))\n",
    "    data.weight = data.weight.fillna(np.median(data.weight.dropna()))\n",
    "    data = data.drop('height/weight', axis=1)\n",
    "    return data"
   ]
  },
  {
   "cell_type": "code",
   "execution_count": 12,
   "metadata": {},
   "outputs": [
    {
     "data": {
      "text/plain": [
       "101"
      ]
     },
     "execution_count": 12,
     "metadata": {},
     "output_type": "execute_result"
    }
   ],
   "source": [
    "data_temp[data_temp['height/weight'].isnull()]['batter_name'].nunique()"
   ]
  },
  {
   "cell_type": "code",
   "execution_count": 13,
   "metadata": {},
   "outputs": [],
   "source": [
    "data_temp = weight_height_(data_temp)"
   ]
  },
  {
   "cell_type": "markdown",
   "metadata": {},
   "source": [
    "## 키몸무게 결측치 채우기"
   ]
  },
  {
   "cell_type": "code",
   "execution_count": 70,
   "metadata": {},
   "outputs": [],
   "source": [
    "def height_weight_fillna(data):\n",
    "    h_w_df = pd.read_csv('../dataset/batter_height_weight.csv')\n",
    "    h_w_df.loc[:,'height'] = h_w_df.height.apply(lambda x: str(x)[:-2] + 'cm' if str(x)!='nan' else x)\n",
    "    h_w_df.loc[:,'weight'] = h_w_df.weight.apply(lambda x: str(x)[:-2] + 'kg' if str(x)!='nan' else x)\n",
    "    h_w_df.loc[:,'height/weight'] = h_w_df[['height','weight']].apply(lambda x: str(x[0]) + '/' + str(x[1]) if str(x[0]) != 'nan' else np.nan, axis=1)\n",
    "\n",
    "    null_names = data[data['height/weight'].isnull()].batter_name.unique()\n",
    "    for name in null_names:\n",
    "        data.loc[data.batter_name==name,'height/weight'] = h_w_df.loc[h_w_df.batter_name==name,'height/weight'].iloc[0]\n",
    "    return data"
   ]
  },
  {
   "cell_type": "code",
   "execution_count": 72,
   "metadata": {},
   "outputs": [
    {
     "name": "stdout",
     "output_type": "stream",
     "text": [
      "<class 'pandas.core.frame.DataFrame'>\n",
      "Int64Index: 2454 entries, 0 to 344\n",
      "Data columns (total 28 columns):\n",
      "batter_name        2454 non-null object\n",
      "year               2454 non-null int64\n",
      "team               2454 non-null object\n",
      "avg                2428 non-null float64\n",
      "G                  2454 non-null int64\n",
      "AB                 2454 non-null int64\n",
      "R                  2454 non-null int64\n",
      "H                  2454 non-null int64\n",
      "2B                 2454 non-null int64\n",
      "3B                 2454 non-null int64\n",
      "HR                 2454 non-null int64\n",
      "TB                 2454 non-null int64\n",
      "RBI                2454 non-null int64\n",
      "SB                 2454 non-null int64\n",
      "CS                 2454 non-null int64\n",
      "BB                 2454 non-null int64\n",
      "HBP                2454 non-null int64\n",
      "SO                 2454 non-null int64\n",
      "GDP                2454 non-null int64\n",
      "SLG                2428 non-null float64\n",
      "OBP                2430 non-null float64\n",
      "E                  2454 non-null int64\n",
      "height/weight      2423 non-null object\n",
      "year_born          2454 non-null object\n",
      "position           1652 non-null object\n",
      "career             2454 non-null object\n",
      "starting_salary    1387 non-null object\n",
      "OPS                2428 non-null float64\n",
      "dtypes: float64(4), int64(17), object(7)\n",
      "memory usage: 556.0+ KB\n"
     ]
    }
   ],
   "source": [
    "data_temp = data1.copy()\n",
    "data_temp = height_weight_fillna(data_temp)\n",
    "data_temp.info()"
   ]
  },
  {
   "cell_type": "markdown",
   "metadata": {},
   "source": [
    "## age"
   ]
  },
  {
   "cell_type": "code",
   "execution_count": 8,
   "metadata": {},
   "outputs": [],
   "source": [
    "def age_(data):\n",
    "    data['age'] = data.year - data.year_born.apply(lambda x: int(x[:4]))\n",
    "    data = data.drop('year_born', axis=1)\n",
    "    return data"
   ]
  },
  {
   "cell_type": "code",
   "execution_count": 9,
   "metadata": {},
   "outputs": [],
   "source": [
    "data_temp = age_(data_temp)"
   ]
  },
  {
   "cell_type": "markdown",
   "metadata": {},
   "source": [
    "## starting salary"
   ]
  },
  {
   "cell_type": "code",
   "execution_count": 10,
   "metadata": {},
   "outputs": [],
   "source": [
    "def starting_salary_(data):\n",
    "    data.starting_salary = data.starting_salary.apply(lambda x: x[:-2] if str(x)!='nan' else np.nan).astype(float)\n",
    "    data.starting_salary = data.starting_salary.fillna(np.median(data.starting_salary.dropna()))\n",
    "    return data"
   ]
  },
  {
   "cell_type": "code",
   "execution_count": 11,
   "metadata": {},
   "outputs": [],
   "source": [
    "data_temp = starting_salary_(data_temp)"
   ]
  },
  {
   "cell_type": "markdown",
   "metadata": {},
   "source": [
    "## Lag_n"
   ]
  },
  {
   "cell_type": "code",
   "execution_count": 193,
   "metadata": {},
   "outputs": [],
   "source": [
    "def lag_n(data,name,year,var_name,lag_num=1):\n",
    "    if len(data.loc[(data['batter_name']==name)&(data['year']==year-lag_num),var_name])==0:\n",
    "        return np.nan\n",
    "    else:\n",
    "        return data.loc[(data['batter_name']==name)&(data['year']==year-lag_num),var_name].iloc[0]"
   ]
  },
  {
   "cell_type": "code",
   "execution_count": 199,
   "metadata": {
    "scrolled": true
   },
   "outputs": [
    {
     "name": "stderr",
     "output_type": "stream",
     "text": [
      "\n",
      "  0%|                                                                                                                                                                                                                | 0/20 [00:00<?, ?it/s]\n",
      "  5%|██████████                                                                                                                                                                                              | 1/20 [00:02<00:55,  2.92s/it]\n",
      " 10%|████████████████████                                                                                                                                                                                    | 2/20 [00:05<00:52,  2.89s/it]\n",
      " 15%|██████████████████████████████                                                                                                                                                                          | 3/20 [00:08<00:49,  2.89s/it]\n",
      " 20%|████████████████████████████████████████                                                                                                                                                                | 4/20 [00:11<00:46,  2.88s/it]\n",
      " 25%|██████████████████████████████████████████████████                                                                                                                                                      | 5/20 [00:14<00:43,  2.88s/it]\n",
      " 30%|████████████████████████████████████████████████████████████                                                                                                                                            | 6/20 [00:17<00:40,  2.88s/it]\n",
      " 35%|██████████████████████████████████████████████████████████████████████                                                                                                                                  | 7/20 [00:20<00:37,  2.88s/it]\n",
      " 40%|████████████████████████████████████████████████████████████████████████████████                                                                                                                        | 8/20 [00:23<00:34,  2.88s/it]\n",
      " 45%|██████████████████████████████████████████████████████████████████████████████████████████                                                                                                              | 9/20 [00:25<00:31,  2.88s/it]\n",
      " 50%|███████████████████████████████████████████████████████████████████████████████████████████████████▌                                                                                                   | 10/20 [00:28<00:28,  2.88s/it]\n",
      " 55%|█████████████████████████████████████████████████████████████████████████████████████████████████████████████▍                                                                                         | 11/20 [00:31<00:25,  2.88s/it]\n",
      " 60%|███████████████████████████████████████████████████████████████████████████████████████████████████████████████████████▍                                                                               | 12/20 [00:34<00:23,  2.88s/it]\n",
      " 65%|█████████████████████████████████████████████████████████████████████████████████████████████████████████████████████████████████▎                                                                     | 13/20 [00:37<00:20,  2.88s/it]\n",
      " 70%|███████████████████████████████████████████████████████████████████████████████████████████████████████████████████████████████████████████▎                                                           | 14/20 [00:40<00:17,  2.87s/it]\n",
      " 75%|█████████████████████████████████████████████████████████████████████████████████████████████████████████████████████████████████████████████████████▎                                                 | 15/20 [00:43<00:14,  2.88s/it]\n",
      " 80%|███████████████████████████████████████████████████████████████████████████████████████████████████████████████████████████████████████████████████████████████▏                                       | 16/20 [00:46<00:11,  2.89s/it]\n",
      " 85%|█████████████████████████████████████████████████████████████████████████████████████████████████████████████████████████████████████████████████████████████████████████▏                             | 17/20 [00:49<00:08,  2.89s/it]\n",
      " 90%|███████████████████████████████████████████████████████████████████████████████████████████████████████████████████████████████████████████████████████████████████████████████████                    | 18/20 [00:52<00:05,  2.89s/it]\n",
      " 95%|█████████████████████████████████████████████████████████████████████████████████████████████████████████████████████████████████████████████████████████████████████████████████████████████          | 19/20 [00:54<00:02,  2.89s/it]\n",
      "100%|███████████████████████████████████████████████████████████████████████████████████████████████████████████████████████████████████████████████████████████████████████████████████████████████████████| 20/20 [00:57<00:00,  2.89s/it]\n"
     ]
    }
   ],
   "source": [
    "data_temp = data1.copy()\n",
    "lag_features = ['avg', 'G', 'AB', 'R', 'H', '2B', '3B','HR', 'TB', 'RBI', 'SB', 'CS', 'BB', 'HBP', 'SO', 'GDP', 'SLG', 'OBP','E','OPS']\n",
    "for f in tqdm(range(len(lag_features))):\n",
    "    data_temp['lag_1_'+lag_features[f]]=data_temp.apply(lambda x: lag_n(data_temp,x['batter_name'],x['year'],lag_features[f]),axis=1)"
   ]
  },
  {
   "cell_type": "markdown",
   "metadata": {},
   "source": [
    "## 통산 data"
   ]
  },
  {
   "cell_type": "code",
   "execution_count": 218,
   "metadata": {},
   "outputs": [],
   "source": [
    "def get_total(data, name, year, feature):\n",
    "    if (len(data.loc[(data['batter_name']==name)&(data['year']<year),feature])!=0):\n",
    "        return data.loc[(data['batter_name']==name)&(data['year']<year),feature].sum()\n",
    "    else:\n",
    "        return np.nan"
   ]
  },
  {
   "cell_type": "code",
   "execution_count": 220,
   "metadata": {},
   "outputs": [
    {
     "name": "stderr",
     "output_type": "stream",
     "text": [
      "\n",
      "  0%|                                                                                                                                                                                                                | 0/14 [00:00<?, ?it/s]\n",
      "  7%|██████████████▎                                                                                                                                                                                         | 1/14 [00:03<00:41,  3.19s/it]\n",
      " 14%|████████████████████████████▌                                                                                                                                                                           | 2/14 [00:06<00:37,  3.16s/it]\n",
      " 21%|██████████████████████████████████████████▊                                                                                                                                                             | 3/14 [00:09<00:34,  3.14s/it]\n",
      " 29%|█████████████████████████████████████████████████████████▏                                                                                                                                              | 4/14 [00:12<00:31,  3.14s/it]\n",
      " 36%|███████████████████████████████████████████████████████████████████████▍                                                                                                                                | 5/14 [00:15<00:28,  3.13s/it]\n",
      " 43%|█████████████████████████████████████████████████████████████████████████████████████▋                                                                                                                  | 6/14 [00:18<00:25,  3.13s/it]\n",
      " 50%|████████████████████████████████████████████████████████████████████████████████████████████████████                                                                                                    | 7/14 [00:21<00:21,  3.13s/it]\n",
      " 57%|██████████████████████████████████████████████████████████████████████████████████████████████████████████████████▎                                                                                     | 8/14 [00:25<00:18,  3.13s/it]\n",
      " 64%|████████████████████████████████████████████████████████████████████████████████████████████████████████████████████████████████▌                                                                       | 9/14 [00:28<00:15,  3.13s/it]\n",
      " 71%|██████████████████████████████████████████████████████████████████████████████████████████████████████████████████████████████████████████████▏                                                        | 10/14 [00:31<00:12,  3.14s/it]\n",
      " 79%|████████████████████████████████████████████████████████████████████████████████████████████████████████████████████████████████████████████████████████████▎                                          | 11/14 [00:34<00:09,  3.15s/it]\n",
      " 86%|██████████████████████████████████████████████████████████████████████████████████████████████████████████████████████████████████████████████████████████████████████████▌                            | 12/14 [00:37<00:06,  3.14s/it]\n",
      " 93%|████████████████████████████████████████████████████████████████████████████████████████████████████████████████████████████████████████████████████████████████████████████████████████▊              | 13/14 [00:40<00:03,  3.15s/it]\n",
      "100%|███████████████████████████████████████████████████████████████████████████████████████████████████████████████████████████████████████████████████████████████████████████████████████████████████████| 14/14 [00:44<00:00,  3.15s/it]\n"
     ]
    }
   ],
   "source": [
    "total_features = ['G', 'AB', 'R', 'H','2B', '3B', 'HR', 'TB', 'RBI', 'SB', 'CS', 'BB', 'HBP', 'SO']\n",
    "for f in tqdm(range(len(total_features))):\n",
    "    data_temp['total_'+total_features[f]]=data_temp.apply(lambda x: get_total(data_temp, x['batter_name'],x['year'],total_features[f]),axis=1)"
   ]
  },
  {
   "cell_type": "code",
   "execution_count": 221,
   "metadata": {
    "cell_style": "split"
   },
   "outputs": [
    {
     "data": {
      "text/plain": [
       "batter_name                      강경학\n",
       "year                            2014\n",
       "team                              한화\n",
       "avg                            0.221\n",
       "G                                 41\n",
       "AB                                86\n",
       "R                                 11\n",
       "H                                 19\n",
       "2B                                 2\n",
       "3B                                 3\n",
       "HR                                 1\n",
       "TB                                30\n",
       "RBI                                7\n",
       "SB                                 0\n",
       "CS                                 0\n",
       "BB                                13\n",
       "HBP                                2\n",
       "SO                                28\n",
       "GDP                                1\n",
       "SLG                            0.349\n",
       "OBP                            0.337\n",
       "E                                  6\n",
       "height/weight             180cm/72kg\n",
       "year_born              1992년 08월 11일\n",
       "position                   내야수(우투좌타)\n",
       "career             광주대성초-광주동성중-광주동성고\n",
       "starting_salary              10000만원\n",
       "OPS                            0.686\n",
       "Name: 1, dtype: object"
      ]
     },
     "execution_count": 221,
     "metadata": {},
     "output_type": "execute_result"
    }
   ],
   "source": [
    "data1.iloc[2]"
   ]
  },
  {
   "cell_type": "code",
   "execution_count": 222,
   "metadata": {
    "cell_style": "split"
   },
   "outputs": [
    {
     "data": {
      "text/plain": [
       "batter_name                      강경학\n",
       "year                            2015\n",
       "team                              한화\n",
       "avg                            0.257\n",
       "G                                120\n",
       "AB                               311\n",
       "R                                 50\n",
       "H                                 80\n",
       "2B                                 7\n",
       "3B                                 4\n",
       "HR                                 2\n",
       "TB                               101\n",
       "RBI                               27\n",
       "SB                                 4\n",
       "CS                                 3\n",
       "BB                                40\n",
       "HBP                                5\n",
       "SO                                58\n",
       "GDP                                3\n",
       "SLG                            0.325\n",
       "OBP                            0.348\n",
       "E                                 15\n",
       "height/weight             180cm/72kg\n",
       "year_born              1992년 08월 11일\n",
       "position                   내야수(우투좌타)\n",
       "career             광주대성초-광주동성중-광주동성고\n",
       "starting_salary              10000만원\n",
       "OPS                            0.673\n",
       "lag_1_avg                      0.221\n",
       "lag_1_G                           41\n",
       "                         ...        \n",
       "lag_1_H                           19\n",
       "lag_1_2B                           2\n",
       "lag_1_3B                           3\n",
       "lag_1_HR                           1\n",
       "lag_1_TB                          30\n",
       "lag_1_RBI                          7\n",
       "lag_1_SB                           0\n",
       "lag_1_CS                           0\n",
       "lag_1_BB                          13\n",
       "lag_1_HBP                          2\n",
       "lag_1_SO                          28\n",
       "lag_1_GDP                          1\n",
       "lag_1_SLG                      0.349\n",
       "lag_1_OBP                      0.337\n",
       "lag_1_E                            6\n",
       "lag_1_OPS                      0.686\n",
       "total_G                           43\n",
       "total_AB                          87\n",
       "total_R                           11\n",
       "total_H                           19\n",
       "total_2B                           2\n",
       "total_3B                           3\n",
       "total_HR                           1\n",
       "total_TB                          30\n",
       "total_RBI                          7\n",
       "total_SB                           0\n",
       "total_CS                           0\n",
       "total_BB                          13\n",
       "total_HBP                          2\n",
       "total_SO                          29\n",
       "Name: 1, Length: 62, dtype: object"
      ]
     },
     "execution_count": 222,
     "metadata": {},
     "output_type": "execute_result"
    }
   ],
   "source": [
    "data_temp.iloc[3]"
   ]
  },
  {
   "cell_type": "markdown",
   "metadata": {
    "cell_style": "center"
   },
   "source": [
    "## 누적 시즌 참여 횟수"
   ]
  },
  {
   "cell_type": "code",
   "execution_count": 12,
   "metadata": {},
   "outputs": [],
   "source": [
    "def cum_season_(data, names):\n",
    "    for name in names:\n",
    "        data.loc[data.batter_name==name,'cum_season'] = np.arange(data[data.batter_name==name].shape[0]) \n",
    "    return data"
   ]
  },
  {
   "cell_type": "code",
   "execution_count": 13,
   "metadata": {},
   "outputs": [],
   "source": [
    "names = data_temp.batter_name.unique()\n",
    "data_temp = cum_season_(data_temp, names)"
   ]
  },
  {
   "cell_type": "markdown",
   "metadata": {},
   "source": [
    "## 시즌별 최대 연속 출장 경기"
   ]
  },
  {
   "cell_type": "code",
   "execution_count": 14,
   "metadata": {},
   "outputs": [
    {
     "name": "stdout",
     "output_type": "stream",
     "text": [
      "<class 'pandas.core.frame.DataFrame'>\n",
      "Int64Index: 109771 entries, 0 to 332\n",
      "Data columns (total 19 columns):\n",
      "batter_name      109771 non-null object\n",
      "date             109771 non-null float64\n",
      "opposing_team    109771 non-null object\n",
      "avg1             109771 non-null object\n",
      "AB               109771 non-null int64\n",
      "R                109771 non-null int64\n",
      "H                109771 non-null int64\n",
      "2B               109771 non-null int64\n",
      "3B               109771 non-null int64\n",
      "HR               109771 non-null int64\n",
      "RBI              109771 non-null int64\n",
      "SB               109771 non-null int64\n",
      "CS               109771 non-null int64\n",
      "BB               109771 non-null int64\n",
      "HBP              109771 non-null int64\n",
      "SO               109771 non-null int64\n",
      "GDP              109771 non-null int64\n",
      "avg2             109771 non-null float64\n",
      "year             109771 non-null int64\n",
      "dtypes: float64(2), int64(14), object(3)\n",
      "memory usage: 16.7+ MB\n"
     ]
    }
   ],
   "source": [
    "data2.info()"
   ]
  },
  {
   "cell_type": "code",
   "execution_count": 15,
   "metadata": {},
   "outputs": [],
   "source": [
    "data2 = pd.merge(data1[['batter_name','year','team']], data2, on=['batter_name','year'], how='right')"
   ]
  },
  {
   "cell_type": "markdown",
   "metadata": {},
   "source": [
    "## 역대 OPS 추세\n",
    "$$OPS추세=\\sum_{i=1}^n \\frac{Year_{n}-Year_{n-i}}{Year_{diff}}\\frac{OPS_{n-i}}{OPS_{n-(i+1)}}$$ \n",
    "- 시즌 참가 이력이 1회면 OPS_trend = 0\n",
    "- 이전 시즌 OPS가 0이면 OPS_trend = 0\n",
    "- OPS rate가 1미만이면(하락했으면) -OPS rate"
   ]
  },
  {
   "cell_type": "code",
   "execution_count": 59,
   "metadata": {},
   "outputs": [],
   "source": [
    "def OPS_trend_(data, names):\n",
    "    for name in names:\n",
    "        data_batter = data[data.batter_name==name][['year','OPS']]\n",
    "        year_diff = data_batter.year.iloc[-1] - data_batter.year.iloc[0]\n",
    "        OPS_trend = list()\n",
    "        # 전전 시즌과 전시즌 데이터가 있어야 이전 추세를 구할 수 있기때문에 시즌참여횟수가 최소 3회는 되어야함\n",
    "        if data_batter.shape[0] < 3:\n",
    "            OPS_trend = 0 \n",
    "        else:\n",
    "            for y in range(data_batter.shape[0]):\n",
    "                data_ops = data_batter.iloc[:y+1,:]\n",
    "                OPS_weight = 0\n",
    "                # 위와 마찬가지 다만 시즌참여 횟수가 3회이상인 경우 누점참여수가 2회까지는 모두 0\n",
    "                if data_ops.shape[0]!=3:\n",
    "                    for i in range(2, data_ops.shape[0]):\n",
    "                        # 전시즌과 전전시즌의 OPS가 0이면 pass\n",
    "                        if (data_ops.OPS.iloc[i-1] == 0) | (data_ops.OPS.iloc[i-2] == 0):\n",
    "                            continue\n",
    "                        else:\n",
    "                            ops_rate = (data_ops.OPS.iloc[i-1]/data_ops.OPS.iloc[i-2])\n",
    "                            if ops_rate < 1:\n",
    "                                ops_rate = -ops_rate\n",
    "                            OPS_weight += ((data_ops.year.iloc[i]-data_ops.year.iloc[i-1])/year_diff) * ops_rate\n",
    "                OPS_trend.append(np.round(OPS_weight,3))\n",
    "        data.loc[data.batter_name==name,'OPS_trend'] = OPS_trend\n",
    "    return data"
   ]
  },
  {
   "cell_type": "code",
   "execution_count": 60,
   "metadata": {},
   "outputs": [],
   "source": [
    "data_temp = OPS_trend_(data_temp, names)"
   ]
  },
  {
   "cell_type": "code",
   "execution_count": 61,
   "metadata": {},
   "outputs": [
    {
     "data": {
      "text/html": [
       "<div>\n",
       "<style scoped>\n",
       "    .dataframe tbody tr th:only-of-type {\n",
       "        vertical-align: middle;\n",
       "    }\n",
       "\n",
       "    .dataframe tbody tr th {\n",
       "        vertical-align: top;\n",
       "    }\n",
       "\n",
       "    .dataframe thead th {\n",
       "        text-align: right;\n",
       "    }\n",
       "</style>\n",
       "<table border=\"1\" class=\"dataframe\">\n",
       "  <thead>\n",
       "    <tr style=\"text-align: right;\">\n",
       "      <th></th>\n",
       "      <th>batter_name</th>\n",
       "      <th>year</th>\n",
       "      <th>OPS</th>\n",
       "      <th>OPS_trend</th>\n",
       "    </tr>\n",
       "  </thead>\n",
       "  <tbody>\n",
       "    <tr>\n",
       "      <th>1196</th>\n",
       "      <td>양의지</td>\n",
       "      <td>2007</td>\n",
       "      <td>0.000</td>\n",
       "      <td>0.000</td>\n",
       "    </tr>\n",
       "    <tr>\n",
       "      <th>1197</th>\n",
       "      <td>양의지</td>\n",
       "      <td>2010</td>\n",
       "      <td>0.819</td>\n",
       "      <td>0.000</td>\n",
       "    </tr>\n",
       "    <tr>\n",
       "      <th>1198</th>\n",
       "      <td>양의지</td>\n",
       "      <td>2011</td>\n",
       "      <td>0.761</td>\n",
       "      <td>0.000</td>\n",
       "    </tr>\n",
       "    <tr>\n",
       "      <th>1199</th>\n",
       "      <td>양의지</td>\n",
       "      <td>2012</td>\n",
       "      <td>0.748</td>\n",
       "      <td>-0.084</td>\n",
       "    </tr>\n",
       "    <tr>\n",
       "      <th>1200</th>\n",
       "      <td>양의지</td>\n",
       "      <td>2013</td>\n",
       "      <td>0.714</td>\n",
       "      <td>-0.174</td>\n",
       "    </tr>\n",
       "    <tr>\n",
       "      <th>1201</th>\n",
       "      <td>양의지</td>\n",
       "      <td>2014</td>\n",
       "      <td>0.840</td>\n",
       "      <td>-0.261</td>\n",
       "    </tr>\n",
       "    <tr>\n",
       "      <th>1202</th>\n",
       "      <td>양의지</td>\n",
       "      <td>2015</td>\n",
       "      <td>0.928</td>\n",
       "      <td>-0.154</td>\n",
       "    </tr>\n",
       "    <tr>\n",
       "      <th>1203</th>\n",
       "      <td>양의지</td>\n",
       "      <td>2016</td>\n",
       "      <td>0.973</td>\n",
       "      <td>-0.053</td>\n",
       "    </tr>\n",
       "    <tr>\n",
       "      <th>1204</th>\n",
       "      <td>양의지</td>\n",
       "      <td>2017</td>\n",
       "      <td>0.814</td>\n",
       "      <td>0.042</td>\n",
       "    </tr>\n",
       "    <tr>\n",
       "      <th>1205</th>\n",
       "      <td>양의지</td>\n",
       "      <td>2018</td>\n",
       "      <td>1.012</td>\n",
       "      <td>-0.034</td>\n",
       "    </tr>\n",
       "  </tbody>\n",
       "</table>\n",
       "</div>"
      ],
      "text/plain": [
       "     batter_name  year    OPS  OPS_trend\n",
       "1196         양의지  2007  0.000      0.000\n",
       "1197         양의지  2010  0.819      0.000\n",
       "1198         양의지  2011  0.761      0.000\n",
       "1199         양의지  2012  0.748     -0.084\n",
       "1200         양의지  2013  0.714     -0.174\n",
       "1201         양의지  2014  0.840     -0.261\n",
       "1202         양의지  2015  0.928     -0.154\n",
       "1203         양의지  2016  0.973     -0.053\n",
       "1204         양의지  2017  0.814      0.042\n",
       "1205         양의지  2018  1.012     -0.034"
      ]
     },
     "execution_count": 61,
     "metadata": {},
     "output_type": "execute_result"
    }
   ],
   "source": [
    "data_temp[data_temp.batter_name=='양의지'][['batter_name','year','OPS','OPS_trend']]"
   ]
  },
  {
   "cell_type": "code",
   "execution_count": 62,
   "metadata": {},
   "outputs": [
    {
     "data": {
      "text/html": [
       "<div>\n",
       "<style scoped>\n",
       "    .dataframe tbody tr th:only-of-type {\n",
       "        vertical-align: middle;\n",
       "    }\n",
       "\n",
       "    .dataframe tbody tr th {\n",
       "        vertical-align: top;\n",
       "    }\n",
       "\n",
       "    .dataframe thead th {\n",
       "        text-align: right;\n",
       "    }\n",
       "</style>\n",
       "<table border=\"1\" class=\"dataframe\">\n",
       "  <thead>\n",
       "    <tr style=\"text-align: right;\">\n",
       "      <th></th>\n",
       "      <th>batter_name</th>\n",
       "      <th>year</th>\n",
       "      <th>OPS</th>\n",
       "      <th>OPS_trend</th>\n",
       "    </tr>\n",
       "  </thead>\n",
       "  <tbody>\n",
       "    <tr>\n",
       "      <th>2434</th>\n",
       "      <td>황재균</td>\n",
       "      <td>2007</td>\n",
       "      <td>0.698</td>\n",
       "      <td>0.000</td>\n",
       "    </tr>\n",
       "    <tr>\n",
       "      <th>2435</th>\n",
       "      <td>황재균</td>\n",
       "      <td>2008</td>\n",
       "      <td>0.567</td>\n",
       "      <td>0.000</td>\n",
       "    </tr>\n",
       "    <tr>\n",
       "      <th>2436</th>\n",
       "      <td>황재균</td>\n",
       "      <td>2009</td>\n",
       "      <td>0.802</td>\n",
       "      <td>0.000</td>\n",
       "    </tr>\n",
       "    <tr>\n",
       "      <th>2437</th>\n",
       "      <td>황재균</td>\n",
       "      <td>2010</td>\n",
       "      <td>0.653</td>\n",
       "      <td>0.055</td>\n",
       "    </tr>\n",
       "    <tr>\n",
       "      <th>2438</th>\n",
       "      <td>황재균</td>\n",
       "      <td>2011</td>\n",
       "      <td>0.805</td>\n",
       "      <td>-0.019</td>\n",
       "    </tr>\n",
       "    <tr>\n",
       "      <th>2439</th>\n",
       "      <td>황재균</td>\n",
       "      <td>2012</td>\n",
       "      <td>0.681</td>\n",
       "      <td>0.093</td>\n",
       "    </tr>\n",
       "    <tr>\n",
       "      <th>2440</th>\n",
       "      <td>황재균</td>\n",
       "      <td>2013</td>\n",
       "      <td>0.739</td>\n",
       "      <td>0.016</td>\n",
       "    </tr>\n",
       "    <tr>\n",
       "      <th>2441</th>\n",
       "      <td>황재균</td>\n",
       "      <td>2014</td>\n",
       "      <td>0.863</td>\n",
       "      <td>0.115</td>\n",
       "    </tr>\n",
       "    <tr>\n",
       "      <th>2442</th>\n",
       "      <td>황재균</td>\n",
       "      <td>2015</td>\n",
       "      <td>0.871</td>\n",
       "      <td>0.221</td>\n",
       "    </tr>\n",
       "    <tr>\n",
       "      <th>2443</th>\n",
       "      <td>황재균</td>\n",
       "      <td>2016</td>\n",
       "      <td>0.964</td>\n",
       "      <td>0.312</td>\n",
       "    </tr>\n",
       "    <tr>\n",
       "      <th>2444</th>\n",
       "      <td>황재균</td>\n",
       "      <td>2018</td>\n",
       "      <td>0.884</td>\n",
       "      <td>0.514</td>\n",
       "    </tr>\n",
       "  </tbody>\n",
       "</table>\n",
       "</div>"
      ],
      "text/plain": [
       "     batter_name  year    OPS  OPS_trend\n",
       "2434         황재균  2007  0.698      0.000\n",
       "2435         황재균  2008  0.567      0.000\n",
       "2436         황재균  2009  0.802      0.000\n",
       "2437         황재균  2010  0.653      0.055\n",
       "2438         황재균  2011  0.805     -0.019\n",
       "2439         황재균  2012  0.681      0.093\n",
       "2440         황재균  2013  0.739      0.016\n",
       "2441         황재균  2014  0.863      0.115\n",
       "2442         황재균  2015  0.871      0.221\n",
       "2443         황재균  2016  0.964      0.312\n",
       "2444         황재균  2018  0.884      0.514"
      ]
     },
     "execution_count": 62,
     "metadata": {},
     "output_type": "execute_result"
    }
   ],
   "source": [
    "data_temp[data_temp.batter_name=='황재균'][['batter_name','year','OPS','OPS_trend']]"
   ]
  },
  {
   "cell_type": "markdown",
   "metadata": {},
   "source": [
    "## 역대 OBP 추세"
   ]
  },
  {
   "cell_type": "code",
   "execution_count": 20,
   "metadata": {},
   "outputs": [],
   "source": [
    "def OBP_trend_(data, names):\n",
    "    for name in names:\n",
    "        data_batter = data[data.batter_name==name][['year','OBP']]\n",
    "        year_diff = data_batter.year.iloc[-1] - data_batter.year.iloc[0]\n",
    "        OBP_trend = list()\n",
    "        # 전전 시즌과 전시즌 데이터가 있어야 이전 추세를 구할 수 있기때문에 시즌참여횟수가 최소 3회는 되어야함\n",
    "        if data_batter.shape[0] < 3:\n",
    "            OBP_trend = 0 \n",
    "        else:\n",
    "            for y in range(data_batter.shape[0]):\n",
    "                data_OBP = data_batter.iloc[:y+1,:]\n",
    "                OBP_weight = 0\n",
    "                # 위와 마찬가지 다만 시즌참여 횟수가 3회이상인 경우 누점참여수가 2회까지는 모두 0\n",
    "                if data_OBP.shape[0]!=3:\n",
    "                    for i in range(2, data_OBP.shape[0]):\n",
    "                        # 전시즌과 전전시즌의 OBP가 0이면 pass\n",
    "                        if (data_OBP.OBP.iloc[i-1] == 0) | (data_OBP.OBP.iloc[i-2] == 0):\n",
    "                            continue\n",
    "                        else:\n",
    "                            OBP_rate = (data_OBP.OBP.iloc[i-1]/data_OBP.OBP.iloc[i-2])\n",
    "                            if OBP_rate < 1:\n",
    "                                OBP_rate = -OBP_rate\n",
    "                            OBP_weight += ((data_OBP.year.iloc[i]-data_OBP.year.iloc[i-1])/year_diff) * OBP_rate\n",
    "                OBP_trend.append(np.round(OBP_weight,3))\n",
    "        data.loc[data.batter_name==name,'OBP_trend'] = OBP_trend\n",
    "    return data"
   ]
  },
  {
   "cell_type": "code",
   "execution_count": 21,
   "metadata": {},
   "outputs": [
    {
     "name": "stdout",
     "output_type": "stream",
     "text": [
      "Wall time: 2.11 s\n"
     ]
    }
   ],
   "source": [
    "%%time\n",
    "data_temp = OBP_trend_(data_temp, names)"
   ]
  },
  {
   "cell_type": "markdown",
   "metadata": {},
   "source": [
    "## 역대 SLG 추세"
   ]
  },
  {
   "cell_type": "code",
   "execution_count": 22,
   "metadata": {},
   "outputs": [],
   "source": [
    "def SLG_trend_(data, names):\n",
    "    for name in names:\n",
    "        data_batter = data[data.batter_name==name][['year','SLG']]\n",
    "        year_diff = data_batter.year.iloc[-1] - data_batter.year.iloc[0]\n",
    "        SLG_trend = list()\n",
    "        # 전전 시즌과 전시즌 데이터가 있어야 이전 추세를 구할 수 있기때문에 시즌참여횟수가 최소 3회는 되어야함\n",
    "        if data_batter.shape[0] < 3:\n",
    "            SLG_trend = 0 \n",
    "        else:\n",
    "            for y in range(data_batter.shape[0]):\n",
    "                data_SLG = data_batter.iloc[:y+1,:]\n",
    "                SLG_weight = 0\n",
    "                # 위와 마찬가지 다만 시즌참여 횟수가 3회이상인 경우 누점참여수가 2회까지는 모두 0\n",
    "                if data_SLG.shape[0]!=3:\n",
    "                    for i in range(2, data_SLG.shape[0]):\n",
    "                        # 전시즌과 전전시즌의 SLG가 0이면 pass\n",
    "                        if (data_SLG.SLG.iloc[i-1] == 0) | (data_SLG.SLG.iloc[i-2] == 0):\n",
    "                            continue\n",
    "                        else:\n",
    "                            SLG_rate = (data_SLG.SLG.iloc[i-1]/data_SLG.SLG.iloc[i-2])\n",
    "                            if SLG_rate < 1:\n",
    "                                SLG_rate = -SLG_rate\n",
    "                            SLG_weight += ((data_SLG.year.iloc[i]-data_SLG.year.iloc[i-1])/year_diff) * SLG_rate\n",
    "                SLG_trend.append(np.round(SLG_weight,3))\n",
    "        data.loc[data.batter_name==name,'SLG_trend'] = SLG_trend\n",
    "    return data"
   ]
  },
  {
   "cell_type": "code",
   "execution_count": 23,
   "metadata": {},
   "outputs": [
    {
     "name": "stdout",
     "output_type": "stream",
     "text": [
      "Wall time: 2.03 s\n"
     ]
    }
   ],
   "source": [
    "%%time\n",
    "data_temp = SLG_trend_(data_temp, names)"
   ]
  },
  {
   "cell_type": "markdown",
   "metadata": {},
   "source": [
    "## 역대 OPS 상승 수 하락 수\n",
    "- 시즌 참가 이력이 1회면 OPS_up, OPS_down은 0\n",
    "- 역대 시즌 OPS가 모두 0 이면 OPS_up, OPS_down은 0\n",
    "    - 이전 시즌 OPS가 0 이면 역대 OPS중 가장 최근 OPS를 기준으로 함"
   ]
  },
  {
   "cell_type": "code",
   "execution_count": 24,
   "metadata": {},
   "outputs": [],
   "source": [
    "def OPS_up_down(data, names):\n",
    "    for name in names:\n",
    "        data_name = data[data.batter_name==name]\n",
    "        for i in range(data_name.shape[0]):\n",
    "            OPS_up, OPS_down = 0, 0\n",
    "            year = data_name.year.iloc[i]\n",
    "            data_ = data_name.iloc[:i+1,:]\n",
    "            # 시즌 누점 참여횟수가 3회가 안되면 역대시즌의 상승 수 하락 수를 구할 수 없음\n",
    "            if data_.shape[0] < 3:\n",
    "                data.loc[(data.batter_name==name) & (data.year==year),'OPS_up'] = OPS_up\n",
    "                data.loc[(data.batter_name==name) & (data.year==year),'OPS_down'] = OPS_down\n",
    "                continue\n",
    "            for j in range(data_.shape[0]):\n",
    "                if j < 3:\n",
    "                    continue\n",
    "                pre_OPS = [ops for ops in data_.iloc[:j-1,:]['OPS'] if ops != 0]\n",
    "                if (len(pre_OPS) == 0) | (data_.iloc[j-1,:]['OPS'] == 0):\n",
    "                    continue\n",
    "                up_down = data_.iloc[j,:]['OPS'] / pre_OPS[-1]\n",
    "                if up_down > 1:\n",
    "                    OPS_up += 1\n",
    "                elif up_down < 1:\n",
    "                    OPS_down += 1\n",
    "                \n",
    "            data.loc[(data.batter_name==name) & (data.year==year),'OPS_up'] = OPS_up\n",
    "            data.loc[(data.batter_name==name) & (data.year==year),'OPS_down'] = OPS_down\n",
    "    \n",
    "    return data"
   ]
  },
  {
   "cell_type": "code",
   "execution_count": 25,
   "metadata": {},
   "outputs": [
    {
     "name": "stdout",
     "output_type": "stream",
     "text": [
      "Wall time: 14.5 s\n"
     ]
    }
   ],
   "source": [
    "%%time\n",
    "data_temp = OPS_up_down(data_temp, names)"
   ]
  },
  {
   "cell_type": "code",
   "execution_count": 26,
   "metadata": {},
   "outputs": [
    {
     "data": {
      "text/html": [
       "<div>\n",
       "<style scoped>\n",
       "    .dataframe tbody tr th:only-of-type {\n",
       "        vertical-align: middle;\n",
       "    }\n",
       "\n",
       "    .dataframe tbody tr th {\n",
       "        vertical-align: top;\n",
       "    }\n",
       "\n",
       "    .dataframe thead th {\n",
       "        text-align: right;\n",
       "    }\n",
       "</style>\n",
       "<table border=\"1\" class=\"dataframe\">\n",
       "  <thead>\n",
       "    <tr style=\"text-align: right;\">\n",
       "      <th></th>\n",
       "      <th>batter_name</th>\n",
       "      <th>year</th>\n",
       "      <th>OPS</th>\n",
       "      <th>OPS_up</th>\n",
       "      <th>OPS_down</th>\n",
       "    </tr>\n",
       "    <tr>\n",
       "      <th>batter_id</th>\n",
       "      <th></th>\n",
       "      <th></th>\n",
       "      <th></th>\n",
       "      <th></th>\n",
       "      <th></th>\n",
       "    </tr>\n",
       "  </thead>\n",
       "  <tbody>\n",
       "    <tr>\n",
       "      <th>174</th>\n",
       "      <td>양의지</td>\n",
       "      <td>2007</td>\n",
       "      <td>0.000</td>\n",
       "      <td>0.0</td>\n",
       "      <td>0.0</td>\n",
       "    </tr>\n",
       "    <tr>\n",
       "      <th>174</th>\n",
       "      <td>양의지</td>\n",
       "      <td>2010</td>\n",
       "      <td>0.819</td>\n",
       "      <td>0.0</td>\n",
       "      <td>0.0</td>\n",
       "    </tr>\n",
       "    <tr>\n",
       "      <th>174</th>\n",
       "      <td>양의지</td>\n",
       "      <td>2011</td>\n",
       "      <td>0.761</td>\n",
       "      <td>0.0</td>\n",
       "      <td>0.0</td>\n",
       "    </tr>\n",
       "    <tr>\n",
       "      <th>174</th>\n",
       "      <td>양의지</td>\n",
       "      <td>2012</td>\n",
       "      <td>0.748</td>\n",
       "      <td>0.0</td>\n",
       "      <td>1.0</td>\n",
       "    </tr>\n",
       "    <tr>\n",
       "      <th>174</th>\n",
       "      <td>양의지</td>\n",
       "      <td>2013</td>\n",
       "      <td>0.714</td>\n",
       "      <td>0.0</td>\n",
       "      <td>2.0</td>\n",
       "    </tr>\n",
       "    <tr>\n",
       "      <th>174</th>\n",
       "      <td>양의지</td>\n",
       "      <td>2014</td>\n",
       "      <td>0.840</td>\n",
       "      <td>1.0</td>\n",
       "      <td>2.0</td>\n",
       "    </tr>\n",
       "    <tr>\n",
       "      <th>174</th>\n",
       "      <td>양의지</td>\n",
       "      <td>2015</td>\n",
       "      <td>0.928</td>\n",
       "      <td>2.0</td>\n",
       "      <td>2.0</td>\n",
       "    </tr>\n",
       "    <tr>\n",
       "      <th>174</th>\n",
       "      <td>양의지</td>\n",
       "      <td>2016</td>\n",
       "      <td>0.973</td>\n",
       "      <td>3.0</td>\n",
       "      <td>2.0</td>\n",
       "    </tr>\n",
       "    <tr>\n",
       "      <th>174</th>\n",
       "      <td>양의지</td>\n",
       "      <td>2017</td>\n",
       "      <td>0.814</td>\n",
       "      <td>3.0</td>\n",
       "      <td>3.0</td>\n",
       "    </tr>\n",
       "    <tr>\n",
       "      <th>174</th>\n",
       "      <td>양의지</td>\n",
       "      <td>2018</td>\n",
       "      <td>1.012</td>\n",
       "      <td>4.0</td>\n",
       "      <td>3.0</td>\n",
       "    </tr>\n",
       "  </tbody>\n",
       "</table>\n",
       "</div>"
      ],
      "text/plain": [
       "          batter_name  year    OPS  OPS_up  OPS_down\n",
       "batter_id                                           \n",
       "174               양의지  2007  0.000     0.0       0.0\n",
       "174               양의지  2010  0.819     0.0       0.0\n",
       "174               양의지  2011  0.761     0.0       0.0\n",
       "174               양의지  2012  0.748     0.0       1.0\n",
       "174               양의지  2013  0.714     0.0       2.0\n",
       "174               양의지  2014  0.840     1.0       2.0\n",
       "174               양의지  2015  0.928     2.0       2.0\n",
       "174               양의지  2016  0.973     3.0       2.0\n",
       "174               양의지  2017  0.814     3.0       3.0\n",
       "174               양의지  2018  1.012     4.0       3.0"
      ]
     },
     "execution_count": 26,
     "metadata": {},
     "output_type": "execute_result"
    }
   ],
   "source": [
    "data_temp[data_temp.batter_name=='양의지'][['batter_name','year','OPS','OPS_up','OPS_down']]"
   ]
  },
  {
   "cell_type": "markdown",
   "metadata": {},
   "source": [
    "## 역대 OBP 상승 수 하락 수"
   ]
  },
  {
   "cell_type": "code",
   "execution_count": 27,
   "metadata": {},
   "outputs": [],
   "source": [
    "def OBP_up_down(data, names):\n",
    "    for name in names:\n",
    "        data_name = data[data.batter_name==name]\n",
    "        for i in range(data_name.shape[0]):\n",
    "            OBP_up, OBP_down = 0, 0\n",
    "            year = data_name.year.iloc[i]\n",
    "            data_ = data_name.iloc[:i+1,:]\n",
    "            # 시즌 누점 참여횟수가 3회가 안되면 역대시즌의 상승 수 하락 수를 구할 수 없음\n",
    "            if data_.shape[0] < 3:\n",
    "                data.loc[(data.batter_name==name) & (data.year==year),'OBP_up'] = OBP_up\n",
    "                data.loc[(data.batter_name==name) & (data.year==year),'OBP_down'] = OBP_down\n",
    "                continue\n",
    "            for j in range(data_.shape[0]):\n",
    "                if j < 3:\n",
    "                    continue\n",
    "                pre_OBP = [OBP for OBP in data_.iloc[:j-1,:]['OBP'] if OBP != 0]\n",
    "                if (len(pre_OBP) == 0) | (data_.iloc[j-1,:]['OBP'] == 0):\n",
    "                    continue\n",
    "                up_down = data_.iloc[j,:]['OBP'] / pre_OBP[-1]\n",
    "                if up_down > 1:\n",
    "                    OBP_up += 1\n",
    "                elif up_down < 1:\n",
    "                    OBP_down += 1\n",
    "                \n",
    "            data.loc[(data.batter_name==name) & (data.year==year),'OBP_up'] = OBP_up\n",
    "            data.loc[(data.batter_name==name) & (data.year==year),'OBP_down'] = OBP_down\n",
    "    \n",
    "    return data"
   ]
  },
  {
   "cell_type": "code",
   "execution_count": 28,
   "metadata": {},
   "outputs": [
    {
     "name": "stdout",
     "output_type": "stream",
     "text": [
      "Wall time: 14.5 s\n"
     ]
    }
   ],
   "source": [
    "%%time\n",
    "data_temp = OBP_up_down(data_temp, names)"
   ]
  },
  {
   "cell_type": "markdown",
   "metadata": {},
   "source": [
    "## 역대 SLG 상승 수 하락 수"
   ]
  },
  {
   "cell_type": "code",
   "execution_count": 29,
   "metadata": {},
   "outputs": [],
   "source": [
    "def SLG_up_down(data, names):\n",
    "    for name in names:\n",
    "        data_name = data[data.batter_name==name]\n",
    "        for i in range(data_name.shape[0]):\n",
    "            SLG_up, SLG_down = 0, 0\n",
    "            year = data_name.year.iloc[i]\n",
    "            data_ = data_name.iloc[:i+1,:]\n",
    "            # 시즌 누점 참여횟수가 3회가 안되면 역대시즌의 상승 수 하락 수를 구할 수 없음\n",
    "            if data_.shape[0] < 3:\n",
    "                data.loc[(data.batter_name==name) & (data.year==year),'SLG_up'] = SLG_up\n",
    "                data.loc[(data.batter_name==name) & (data.year==year),'SLG_down'] = SLG_down\n",
    "                continue\n",
    "            for j in range(data_.shape[0]):\n",
    "                if j < 3:\n",
    "                    continue\n",
    "                pre_SLG = [SLG for SLG in data_.iloc[:j-1,:]['SLG'] if SLG != 0]\n",
    "                if (len(pre_SLG) == 0) | (data_.iloc[j-1,:]['SLG'] == 0):\n",
    "                    continue\n",
    "                up_down = data_.iloc[j,:]['SLG'] / pre_SLG[-1]\n",
    "                if up_down > 1:\n",
    "                    SLG_up += 1\n",
    "                elif up_down < 1:\n",
    "                    SLG_down += 1\n",
    "                \n",
    "            data.loc[(data.batter_name==name) & (data.year==year),'SLG_up'] = SLG_up\n",
    "            data.loc[(data.batter_name==name) & (data.year==year),'SLG_down'] = SLG_down\n",
    "    \n",
    "    return data"
   ]
  },
  {
   "cell_type": "code",
   "execution_count": 30,
   "metadata": {},
   "outputs": [
    {
     "name": "stdout",
     "output_type": "stream",
     "text": [
      "Wall time: 14.5 s\n"
     ]
    }
   ],
   "source": [
    "%%time\n",
    "data_temp = SLG_up_down(data_temp, names)"
   ]
  },
  {
   "cell_type": "markdown",
   "metadata": {},
   "source": [
    "## Career 개수"
   ]
  },
  {
   "cell_type": "code",
   "execution_count": 31,
   "metadata": {},
   "outputs": [],
   "source": [
    "def career_count(data):\n",
    "    data.loc[:,'career_count'] = data.career.apply(lambda x: len(x.split('-')))\n",
    "    \n",
    "    return data"
   ]
  },
  {
   "cell_type": "code",
   "execution_count": 32,
   "metadata": {},
   "outputs": [],
   "source": [
    "data_temp = career_count(data_temp)"
   ]
  },
  {
   "cell_type": "markdown",
   "metadata": {},
   "source": [
    "## Career 고졸, 대졸 여부"
   ]
  },
  {
   "cell_type": "code",
   "execution_count": 33,
   "metadata": {
    "scrolled": true
   },
   "outputs": [],
   "source": [
    "def grad_status_(data):\n",
    "    def university(careers):\n",
    "        for career in careers:\n",
    "            if (career != '현대') and ('대' in career[-1]):\n",
    "                return career\n",
    "\n",
    "    def grad_univ(careers, univ):\n",
    "        y = 0\n",
    "        for career in careers:\n",
    "            if career in univ:\n",
    "                y += 1\n",
    "        if y == 0:\n",
    "            return 0\n",
    "        else:\n",
    "            return 1\n",
    "\n",
    "    univ = data.career.apply(lambda x: university(x.split('-'))).unique()\n",
    "    data.loc[:,'grad_status'] = data.career.apply(lambda x: grad_univ(x.split('-'), univ))\n",
    "    return data"
   ]
  },
  {
   "cell_type": "code",
   "execution_count": 34,
   "metadata": {},
   "outputs": [],
   "source": [
    "data_temp = grad_status_(data_temp)"
   ]
  },
  {
   "cell_type": "markdown",
   "metadata": {},
   "source": [
    "## 지난 시즌 팀별 투수 순위"
   ]
  },
  {
   "cell_type": "code",
   "execution_count": 11,
   "metadata": {},
   "outputs": [],
   "source": [
    "def era_by_team(data):\n",
    "    data_dir = os.path.abspath(os.path.join(os.getcwd(),'../dataset'))\n",
    "    era = pd.read_excel('{}/era_by_team_and_season.xlsx'.format(data_dir))\n",
    "    era.columns = ['year','team','team_era','rank','team_n','rating']\n",
    "    era.rating = era.rating.apply(lambda x: float(x.split('/')[0]) / float(x.split('/')[1])) \n",
    "    era.year = era.year + 1 # 이전 시즌 데이터를 합쳐야해서 + 1\n",
    "    data = pd.merge(data, era[['team','year','team_era','rating']], on=['team','year'], how='left')\n",
    "    \n",
    "    return data"
   ]
  },
  {
   "cell_type": "code",
   "execution_count": 12,
   "metadata": {},
   "outputs": [],
   "source": [
    "data_temp = era_by_team(data_temp)"
   ]
  },
  {
   "cell_type": "markdown",
   "metadata": {},
   "source": [
    "## Split position"
   ]
  },
  {
   "cell_type": "code",
   "execution_count": 15,
   "metadata": {
    "scrolled": true
   },
   "outputs": [],
   "source": [
    "def split_position(data):\n",
    "    position1 = data.position.apply(lambda x: x[:x.index('(')] if str(x)!='nan' else x)\n",
    "    position2 = data.position.apply(lambda x: x[x.index(')')-2:x.index(')')] if str(x)!='nan' else x)\n",
    "    data.loc[:,'position1'] = position1\n",
    "    data.loc[:,'position2'] = position2\n",
    "    return data"
   ]
  },
  {
   "cell_type": "code",
   "execution_count": 16,
   "metadata": {},
   "outputs": [],
   "source": [
    "data_temp = split_position(data_temp)"
   ]
  },
  {
   "cell_type": "markdown",
   "metadata": {},
   "source": [
    "## 국내파, 해외파"
   ]
  },
  {
   "cell_type": "code",
   "execution_count": 55,
   "metadata": {},
   "outputs": [],
   "source": [
    "international = ['Selma(고)', '쿠바 Ciego de Avila Maximo Gomez Baez(대)', '캐나다 A.B Lucas Secondary(고)', '필라델피아', \n",
    "                '히로시마', '일본 아세아대', '샌프란시스코', '미국 윌리캐넌초', '미국 쿠퍼고', '미국 페퍼다인대', \n",
    "                 '미네소타','볼티모어', '미국 Catawba(대)', '미국 Creighton(대)', '미국 Diamond Bar(고)',\n",
    "                '미국 Fort Loramie(고)', '미국 Kentucky(대)', '미국 Las Vegas(대)','미국 Smithfield', '미국 Texas at Arlington(대)', '미국 Toledo(대)',\n",
    "                '미국 Wabash Valley(대)', '미국 레이노사고', '미국 볼주립대', '미국 위스콘신 라크로스대', \n",
    "                '도미니카', '도미니카 Elias Rodriguez(고)', '도미니카 산토도밍고고', '도미니카 알레한드로 바쓰고',\n",
    "                '도미니카 엘세이보고', '네덜란드 Voorben Praktyk(고)']"
   ]
  },
  {
   "cell_type": "code",
   "execution_count": 57,
   "metadata": {},
   "outputs": [],
   "source": [
    "def from_inter_(data):\n",
    "    def career_inter(careers, international):\n",
    "        inter_y = 0\n",
    "        for career in careers:\n",
    "            if career in international:\n",
    "                inter_y += 1\n",
    "        if inter_y == 0:\n",
    "            return 0 # 국내파\n",
    "        else:\n",
    "            return 1 # 국제파\n",
    "    data.loc[:,'from_inter'] = data.career.apply(lambda x: career_inter(x.split('-'), international))\n",
    "    \n",
    "    return data"
   ]
  },
  {
   "cell_type": "code",
   "execution_count": 58,
   "metadata": {},
   "outputs": [],
   "source": [
    "data_temp = from_inter_(data_temp)"
   ]
  },
  {
   "cell_type": "markdown",
   "metadata": {},
   "source": [
    "## 전 시즌 데이터 사용"
   ]
  },
  {
   "cell_type": "code",
   "execution_count": 136,
   "metadata": {},
   "outputs": [],
   "source": [
    "def pre_data(data, names, features):\n",
    "    pre_data = pd.DataFrame()\n",
    "    for name in names:\n",
    "        data_name = data[data.batter_name==name][['batter_name','year'] + features].copy()\n",
    "        data_name.iloc[1:,2:] = data_name.iloc[:-1,2:]\n",
    "        data_name.iloc[0,2:] = 0\n",
    "        new_colnames = list()\n",
    "        for feature in features:\n",
    "            new_colnames.append('pre_{}'.format(feature))\n",
    "        data_name.columns = ['batter_name','year'] + new_colnames\n",
    "        pre_data = pd.concat([pre_data,data_name], axis=0)\n",
    "    data = pd.merge(data, pre_data, on=['batter_name','year'], how='left')\n",
    "    return data"
   ]
  },
  {
   "cell_type": "code",
   "execution_count": 137,
   "metadata": {},
   "outputs": [],
   "source": [
    "pre_features = ['avg', 'G', 'AB', 'R', 'H', '2B', '3B',\n",
    "       'HR', 'TB', 'RBI', 'SB', 'CS', 'BB', 'HBP', 'SO', 'GDP', 'SLG', 'OBP',\n",
    "       'E','OPS']\n",
    "data_temp = data1.copy()\n",
    "data_temp = pre_data(data_temp, names, pre_features)"
   ]
  },
  {
   "cell_type": "code",
   "execution_count": 138,
   "metadata": {},
   "outputs": [
    {
     "data": {
      "text/html": [
       "<div>\n",
       "<style scoped>\n",
       "    .dataframe tbody tr th:only-of-type {\n",
       "        vertical-align: middle;\n",
       "    }\n",
       "\n",
       "    .dataframe tbody tr th {\n",
       "        vertical-align: top;\n",
       "    }\n",
       "\n",
       "    .dataframe thead th {\n",
       "        text-align: right;\n",
       "    }\n",
       "</style>\n",
       "<table border=\"1\" class=\"dataframe\">\n",
       "  <thead>\n",
       "    <tr style=\"text-align: right;\">\n",
       "      <th></th>\n",
       "      <th>year</th>\n",
       "      <th>pre_avg</th>\n",
       "      <th>pre_G</th>\n",
       "      <th>pre_AB</th>\n",
       "      <th>pre_R</th>\n",
       "      <th>pre_H</th>\n",
       "      <th>pre_2B</th>\n",
       "      <th>pre_3B</th>\n",
       "      <th>pre_HR</th>\n",
       "      <th>pre_TB</th>\n",
       "      <th>...</th>\n",
       "      <th>pre_SB</th>\n",
       "      <th>pre_CS</th>\n",
       "      <th>pre_BB</th>\n",
       "      <th>pre_HBP</th>\n",
       "      <th>pre_SO</th>\n",
       "      <th>pre_GDP</th>\n",
       "      <th>pre_SLG</th>\n",
       "      <th>pre_OBP</th>\n",
       "      <th>pre_E</th>\n",
       "      <th>pre_OPS</th>\n",
       "    </tr>\n",
       "  </thead>\n",
       "  <tbody>\n",
       "    <tr>\n",
       "      <th>1196</th>\n",
       "      <td>2007</td>\n",
       "      <td>0.000</td>\n",
       "      <td>0</td>\n",
       "      <td>0</td>\n",
       "      <td>0</td>\n",
       "      <td>0</td>\n",
       "      <td>0</td>\n",
       "      <td>0</td>\n",
       "      <td>0</td>\n",
       "      <td>0</td>\n",
       "      <td>...</td>\n",
       "      <td>0</td>\n",
       "      <td>0</td>\n",
       "      <td>0</td>\n",
       "      <td>0</td>\n",
       "      <td>0</td>\n",
       "      <td>0</td>\n",
       "      <td>0.000</td>\n",
       "      <td>0.000</td>\n",
       "      <td>0</td>\n",
       "      <td>0.000</td>\n",
       "    </tr>\n",
       "    <tr>\n",
       "      <th>1197</th>\n",
       "      <td>2010</td>\n",
       "      <td>0.000</td>\n",
       "      <td>3</td>\n",
       "      <td>1</td>\n",
       "      <td>0</td>\n",
       "      <td>0</td>\n",
       "      <td>0</td>\n",
       "      <td>0</td>\n",
       "      <td>0</td>\n",
       "      <td>0</td>\n",
       "      <td>...</td>\n",
       "      <td>0</td>\n",
       "      <td>0</td>\n",
       "      <td>0</td>\n",
       "      <td>0</td>\n",
       "      <td>0</td>\n",
       "      <td>0</td>\n",
       "      <td>0.000</td>\n",
       "      <td>0.000</td>\n",
       "      <td>0</td>\n",
       "      <td>0.000</td>\n",
       "    </tr>\n",
       "    <tr>\n",
       "      <th>1198</th>\n",
       "      <td>2011</td>\n",
       "      <td>0.267</td>\n",
       "      <td>127</td>\n",
       "      <td>374</td>\n",
       "      <td>48</td>\n",
       "      <td>100</td>\n",
       "      <td>14</td>\n",
       "      <td>1</td>\n",
       "      <td>20</td>\n",
       "      <td>176</td>\n",
       "      <td>...</td>\n",
       "      <td>4</td>\n",
       "      <td>1</td>\n",
       "      <td>40</td>\n",
       "      <td>8</td>\n",
       "      <td>68</td>\n",
       "      <td>12</td>\n",
       "      <td>0.471</td>\n",
       "      <td>0.348</td>\n",
       "      <td>10</td>\n",
       "      <td>0.819</td>\n",
       "    </tr>\n",
       "    <tr>\n",
       "      <th>1199</th>\n",
       "      <td>2012</td>\n",
       "      <td>0.301</td>\n",
       "      <td>119</td>\n",
       "      <td>376</td>\n",
       "      <td>43</td>\n",
       "      <td>113</td>\n",
       "      <td>14</td>\n",
       "      <td>3</td>\n",
       "      <td>4</td>\n",
       "      <td>145</td>\n",
       "      <td>...</td>\n",
       "      <td>3</td>\n",
       "      <td>3</td>\n",
       "      <td>44</td>\n",
       "      <td>3</td>\n",
       "      <td>58</td>\n",
       "      <td>12</td>\n",
       "      <td>0.386</td>\n",
       "      <td>0.375</td>\n",
       "      <td>6</td>\n",
       "      <td>0.761</td>\n",
       "    </tr>\n",
       "    <tr>\n",
       "      <th>1200</th>\n",
       "      <td>2013</td>\n",
       "      <td>0.279</td>\n",
       "      <td>122</td>\n",
       "      <td>359</td>\n",
       "      <td>39</td>\n",
       "      <td>100</td>\n",
       "      <td>22</td>\n",
       "      <td>1</td>\n",
       "      <td>5</td>\n",
       "      <td>139</td>\n",
       "      <td>...</td>\n",
       "      <td>1</td>\n",
       "      <td>2</td>\n",
       "      <td>37</td>\n",
       "      <td>10</td>\n",
       "      <td>51</td>\n",
       "      <td>17</td>\n",
       "      <td>0.387</td>\n",
       "      <td>0.361</td>\n",
       "      <td>5</td>\n",
       "      <td>0.748</td>\n",
       "    </tr>\n",
       "    <tr>\n",
       "      <th>1201</th>\n",
       "      <td>2014</td>\n",
       "      <td>0.248</td>\n",
       "      <td>114</td>\n",
       "      <td>311</td>\n",
       "      <td>37</td>\n",
       "      <td>77</td>\n",
       "      <td>19</td>\n",
       "      <td>0</td>\n",
       "      <td>7</td>\n",
       "      <td>117</td>\n",
       "      <td>...</td>\n",
       "      <td>6</td>\n",
       "      <td>1</td>\n",
       "      <td>36</td>\n",
       "      <td>8</td>\n",
       "      <td>50</td>\n",
       "      <td>11</td>\n",
       "      <td>0.376</td>\n",
       "      <td>0.338</td>\n",
       "      <td>4</td>\n",
       "      <td>0.714</td>\n",
       "    </tr>\n",
       "    <tr>\n",
       "      <th>1202</th>\n",
       "      <td>2015</td>\n",
       "      <td>0.294</td>\n",
       "      <td>97</td>\n",
       "      <td>296</td>\n",
       "      <td>40</td>\n",
       "      <td>87</td>\n",
       "      <td>23</td>\n",
       "      <td>1</td>\n",
       "      <td>10</td>\n",
       "      <td>142</td>\n",
       "      <td>...</td>\n",
       "      <td>4</td>\n",
       "      <td>3</td>\n",
       "      <td>24</td>\n",
       "      <td>9</td>\n",
       "      <td>34</td>\n",
       "      <td>8</td>\n",
       "      <td>0.480</td>\n",
       "      <td>0.360</td>\n",
       "      <td>10</td>\n",
       "      <td>0.840</td>\n",
       "    </tr>\n",
       "    <tr>\n",
       "      <th>1203</th>\n",
       "      <td>2016</td>\n",
       "      <td>0.326</td>\n",
       "      <td>132</td>\n",
       "      <td>442</td>\n",
       "      <td>70</td>\n",
       "      <td>144</td>\n",
       "      <td>27</td>\n",
       "      <td>0</td>\n",
       "      <td>20</td>\n",
       "      <td>231</td>\n",
       "      <td>...</td>\n",
       "      <td>5</td>\n",
       "      <td>4</td>\n",
       "      <td>39</td>\n",
       "      <td>24</td>\n",
       "      <td>64</td>\n",
       "      <td>7</td>\n",
       "      <td>0.523</td>\n",
       "      <td>0.405</td>\n",
       "      <td>6</td>\n",
       "      <td>0.928</td>\n",
       "    </tr>\n",
       "    <tr>\n",
       "      <th>1204</th>\n",
       "      <td>2017</td>\n",
       "      <td>0.319</td>\n",
       "      <td>108</td>\n",
       "      <td>332</td>\n",
       "      <td>66</td>\n",
       "      <td>106</td>\n",
       "      <td>17</td>\n",
       "      <td>0</td>\n",
       "      <td>22</td>\n",
       "      <td>189</td>\n",
       "      <td>...</td>\n",
       "      <td>2</td>\n",
       "      <td>0</td>\n",
       "      <td>40</td>\n",
       "      <td>12</td>\n",
       "      <td>29</td>\n",
       "      <td>20</td>\n",
       "      <td>0.569</td>\n",
       "      <td>0.404</td>\n",
       "      <td>7</td>\n",
       "      <td>0.973</td>\n",
       "    </tr>\n",
       "    <tr>\n",
       "      <th>1205</th>\n",
       "      <td>2018</td>\n",
       "      <td>0.277</td>\n",
       "      <td>111</td>\n",
       "      <td>347</td>\n",
       "      <td>47</td>\n",
       "      <td>96</td>\n",
       "      <td>15</td>\n",
       "      <td>0</td>\n",
       "      <td>14</td>\n",
       "      <td>153</td>\n",
       "      <td>...</td>\n",
       "      <td>1</td>\n",
       "      <td>1</td>\n",
       "      <td>43</td>\n",
       "      <td>12</td>\n",
       "      <td>53</td>\n",
       "      <td>17</td>\n",
       "      <td>0.441</td>\n",
       "      <td>0.373</td>\n",
       "      <td>5</td>\n",
       "      <td>0.814</td>\n",
       "    </tr>\n",
       "  </tbody>\n",
       "</table>\n",
       "<p>10 rows × 21 columns</p>\n",
       "</div>"
      ],
      "text/plain": [
       "      year  pre_avg  pre_G  pre_AB  pre_R  pre_H  pre_2B  pre_3B  pre_HR  \\\n",
       "1196  2007    0.000      0       0      0      0       0       0       0   \n",
       "1197  2010    0.000      3       1      0      0       0       0       0   \n",
       "1198  2011    0.267    127     374     48    100      14       1      20   \n",
       "1199  2012    0.301    119     376     43    113      14       3       4   \n",
       "1200  2013    0.279    122     359     39    100      22       1       5   \n",
       "1201  2014    0.248    114     311     37     77      19       0       7   \n",
       "1202  2015    0.294     97     296     40     87      23       1      10   \n",
       "1203  2016    0.326    132     442     70    144      27       0      20   \n",
       "1204  2017    0.319    108     332     66    106      17       0      22   \n",
       "1205  2018    0.277    111     347     47     96      15       0      14   \n",
       "\n",
       "      pre_TB   ...     pre_SB  pre_CS  pre_BB  pre_HBP  pre_SO  pre_GDP  \\\n",
       "1196       0   ...          0       0       0        0       0        0   \n",
       "1197       0   ...          0       0       0        0       0        0   \n",
       "1198     176   ...          4       1      40        8      68       12   \n",
       "1199     145   ...          3       3      44        3      58       12   \n",
       "1200     139   ...          1       2      37       10      51       17   \n",
       "1201     117   ...          6       1      36        8      50       11   \n",
       "1202     142   ...          4       3      24        9      34        8   \n",
       "1203     231   ...          5       4      39       24      64        7   \n",
       "1204     189   ...          2       0      40       12      29       20   \n",
       "1205     153   ...          1       1      43       12      53       17   \n",
       "\n",
       "      pre_SLG  pre_OBP  pre_E  pre_OPS  \n",
       "1196    0.000    0.000      0    0.000  \n",
       "1197    0.000    0.000      0    0.000  \n",
       "1198    0.471    0.348     10    0.819  \n",
       "1199    0.386    0.375      6    0.761  \n",
       "1200    0.387    0.361      5    0.748  \n",
       "1201    0.376    0.338      4    0.714  \n",
       "1202    0.480    0.360     10    0.840  \n",
       "1203    0.523    0.405      6    0.928  \n",
       "1204    0.569    0.404      7    0.973  \n",
       "1205    0.441    0.373      5    0.814  \n",
       "\n",
       "[10 rows x 21 columns]"
      ]
     },
     "execution_count": 138,
     "metadata": {},
     "output_type": "execute_result"
    }
   ],
   "source": [
    "def pre_col(x):\n",
    "    return 'pre_{}'.format(x)\n",
    "temp = data_temp.drop(pre_features,axis=1)\n",
    "temp[temp.batter_name=='양의지'][['year'] + list(map(pre_col,pre_features))]"
   ]
  },
  {
   "cell_type": "code",
   "execution_count": 139,
   "metadata": {},
   "outputs": [
    {
     "data": {
      "text/html": [
       "<div>\n",
       "<style scoped>\n",
       "    .dataframe tbody tr th:only-of-type {\n",
       "        vertical-align: middle;\n",
       "    }\n",
       "\n",
       "    .dataframe tbody tr th {\n",
       "        vertical-align: top;\n",
       "    }\n",
       "\n",
       "    .dataframe thead th {\n",
       "        text-align: right;\n",
       "    }\n",
       "</style>\n",
       "<table border=\"1\" class=\"dataframe\">\n",
       "  <thead>\n",
       "    <tr style=\"text-align: right;\">\n",
       "      <th></th>\n",
       "      <th>year</th>\n",
       "      <th>avg</th>\n",
       "      <th>G</th>\n",
       "      <th>AB</th>\n",
       "      <th>R</th>\n",
       "      <th>H</th>\n",
       "      <th>2B</th>\n",
       "      <th>3B</th>\n",
       "      <th>HR</th>\n",
       "      <th>TB</th>\n",
       "      <th>...</th>\n",
       "      <th>SB</th>\n",
       "      <th>CS</th>\n",
       "      <th>BB</th>\n",
       "      <th>HBP</th>\n",
       "      <th>SO</th>\n",
       "      <th>GDP</th>\n",
       "      <th>SLG</th>\n",
       "      <th>OBP</th>\n",
       "      <th>E</th>\n",
       "      <th>OPS</th>\n",
       "    </tr>\n",
       "    <tr>\n",
       "      <th>batter_id</th>\n",
       "      <th></th>\n",
       "      <th></th>\n",
       "      <th></th>\n",
       "      <th></th>\n",
       "      <th></th>\n",
       "      <th></th>\n",
       "      <th></th>\n",
       "      <th></th>\n",
       "      <th></th>\n",
       "      <th></th>\n",
       "      <th></th>\n",
       "      <th></th>\n",
       "      <th></th>\n",
       "      <th></th>\n",
       "      <th></th>\n",
       "      <th></th>\n",
       "      <th></th>\n",
       "      <th></th>\n",
       "      <th></th>\n",
       "      <th></th>\n",
       "      <th></th>\n",
       "    </tr>\n",
       "  </thead>\n",
       "  <tbody>\n",
       "    <tr>\n",
       "      <th>174</th>\n",
       "      <td>2007</td>\n",
       "      <td>0.000</td>\n",
       "      <td>3</td>\n",
       "      <td>1</td>\n",
       "      <td>0</td>\n",
       "      <td>0</td>\n",
       "      <td>0</td>\n",
       "      <td>0</td>\n",
       "      <td>0</td>\n",
       "      <td>0</td>\n",
       "      <td>...</td>\n",
       "      <td>0</td>\n",
       "      <td>0</td>\n",
       "      <td>0</td>\n",
       "      <td>0</td>\n",
       "      <td>0</td>\n",
       "      <td>0</td>\n",
       "      <td>0.000</td>\n",
       "      <td>0.000</td>\n",
       "      <td>0</td>\n",
       "      <td>0.000</td>\n",
       "    </tr>\n",
       "    <tr>\n",
       "      <th>174</th>\n",
       "      <td>2010</td>\n",
       "      <td>0.267</td>\n",
       "      <td>127</td>\n",
       "      <td>374</td>\n",
       "      <td>48</td>\n",
       "      <td>100</td>\n",
       "      <td>14</td>\n",
       "      <td>1</td>\n",
       "      <td>20</td>\n",
       "      <td>176</td>\n",
       "      <td>...</td>\n",
       "      <td>4</td>\n",
       "      <td>1</td>\n",
       "      <td>40</td>\n",
       "      <td>8</td>\n",
       "      <td>68</td>\n",
       "      <td>12</td>\n",
       "      <td>0.471</td>\n",
       "      <td>0.348</td>\n",
       "      <td>10</td>\n",
       "      <td>0.819</td>\n",
       "    </tr>\n",
       "    <tr>\n",
       "      <th>174</th>\n",
       "      <td>2011</td>\n",
       "      <td>0.301</td>\n",
       "      <td>119</td>\n",
       "      <td>376</td>\n",
       "      <td>43</td>\n",
       "      <td>113</td>\n",
       "      <td>14</td>\n",
       "      <td>3</td>\n",
       "      <td>4</td>\n",
       "      <td>145</td>\n",
       "      <td>...</td>\n",
       "      <td>3</td>\n",
       "      <td>3</td>\n",
       "      <td>44</td>\n",
       "      <td>3</td>\n",
       "      <td>58</td>\n",
       "      <td>12</td>\n",
       "      <td>0.386</td>\n",
       "      <td>0.375</td>\n",
       "      <td>6</td>\n",
       "      <td>0.761</td>\n",
       "    </tr>\n",
       "    <tr>\n",
       "      <th>174</th>\n",
       "      <td>2012</td>\n",
       "      <td>0.279</td>\n",
       "      <td>122</td>\n",
       "      <td>359</td>\n",
       "      <td>39</td>\n",
       "      <td>100</td>\n",
       "      <td>22</td>\n",
       "      <td>1</td>\n",
       "      <td>5</td>\n",
       "      <td>139</td>\n",
       "      <td>...</td>\n",
       "      <td>1</td>\n",
       "      <td>2</td>\n",
       "      <td>37</td>\n",
       "      <td>10</td>\n",
       "      <td>51</td>\n",
       "      <td>17</td>\n",
       "      <td>0.387</td>\n",
       "      <td>0.361</td>\n",
       "      <td>5</td>\n",
       "      <td>0.748</td>\n",
       "    </tr>\n",
       "    <tr>\n",
       "      <th>174</th>\n",
       "      <td>2013</td>\n",
       "      <td>0.248</td>\n",
       "      <td>114</td>\n",
       "      <td>311</td>\n",
       "      <td>37</td>\n",
       "      <td>77</td>\n",
       "      <td>19</td>\n",
       "      <td>0</td>\n",
       "      <td>7</td>\n",
       "      <td>117</td>\n",
       "      <td>...</td>\n",
       "      <td>6</td>\n",
       "      <td>1</td>\n",
       "      <td>36</td>\n",
       "      <td>8</td>\n",
       "      <td>50</td>\n",
       "      <td>11</td>\n",
       "      <td>0.376</td>\n",
       "      <td>0.338</td>\n",
       "      <td>4</td>\n",
       "      <td>0.714</td>\n",
       "    </tr>\n",
       "    <tr>\n",
       "      <th>174</th>\n",
       "      <td>2014</td>\n",
       "      <td>0.294</td>\n",
       "      <td>97</td>\n",
       "      <td>296</td>\n",
       "      <td>40</td>\n",
       "      <td>87</td>\n",
       "      <td>23</td>\n",
       "      <td>1</td>\n",
       "      <td>10</td>\n",
       "      <td>142</td>\n",
       "      <td>...</td>\n",
       "      <td>4</td>\n",
       "      <td>3</td>\n",
       "      <td>24</td>\n",
       "      <td>9</td>\n",
       "      <td>34</td>\n",
       "      <td>8</td>\n",
       "      <td>0.480</td>\n",
       "      <td>0.360</td>\n",
       "      <td>10</td>\n",
       "      <td>0.840</td>\n",
       "    </tr>\n",
       "    <tr>\n",
       "      <th>174</th>\n",
       "      <td>2015</td>\n",
       "      <td>0.326</td>\n",
       "      <td>132</td>\n",
       "      <td>442</td>\n",
       "      <td>70</td>\n",
       "      <td>144</td>\n",
       "      <td>27</td>\n",
       "      <td>0</td>\n",
       "      <td>20</td>\n",
       "      <td>231</td>\n",
       "      <td>...</td>\n",
       "      <td>5</td>\n",
       "      <td>4</td>\n",
       "      <td>39</td>\n",
       "      <td>24</td>\n",
       "      <td>64</td>\n",
       "      <td>7</td>\n",
       "      <td>0.523</td>\n",
       "      <td>0.405</td>\n",
       "      <td>6</td>\n",
       "      <td>0.928</td>\n",
       "    </tr>\n",
       "    <tr>\n",
       "      <th>174</th>\n",
       "      <td>2016</td>\n",
       "      <td>0.319</td>\n",
       "      <td>108</td>\n",
       "      <td>332</td>\n",
       "      <td>66</td>\n",
       "      <td>106</td>\n",
       "      <td>17</td>\n",
       "      <td>0</td>\n",
       "      <td>22</td>\n",
       "      <td>189</td>\n",
       "      <td>...</td>\n",
       "      <td>2</td>\n",
       "      <td>0</td>\n",
       "      <td>40</td>\n",
       "      <td>12</td>\n",
       "      <td>29</td>\n",
       "      <td>20</td>\n",
       "      <td>0.569</td>\n",
       "      <td>0.404</td>\n",
       "      <td>7</td>\n",
       "      <td>0.973</td>\n",
       "    </tr>\n",
       "    <tr>\n",
       "      <th>174</th>\n",
       "      <td>2017</td>\n",
       "      <td>0.277</td>\n",
       "      <td>111</td>\n",
       "      <td>347</td>\n",
       "      <td>47</td>\n",
       "      <td>96</td>\n",
       "      <td>15</td>\n",
       "      <td>0</td>\n",
       "      <td>14</td>\n",
       "      <td>153</td>\n",
       "      <td>...</td>\n",
       "      <td>1</td>\n",
       "      <td>1</td>\n",
       "      <td>43</td>\n",
       "      <td>12</td>\n",
       "      <td>53</td>\n",
       "      <td>17</td>\n",
       "      <td>0.441</td>\n",
       "      <td>0.373</td>\n",
       "      <td>5</td>\n",
       "      <td>0.814</td>\n",
       "    </tr>\n",
       "    <tr>\n",
       "      <th>174</th>\n",
       "      <td>2018</td>\n",
       "      <td>0.358</td>\n",
       "      <td>133</td>\n",
       "      <td>439</td>\n",
       "      <td>84</td>\n",
       "      <td>157</td>\n",
       "      <td>29</td>\n",
       "      <td>1</td>\n",
       "      <td>23</td>\n",
       "      <td>257</td>\n",
       "      <td>...</td>\n",
       "      <td>6</td>\n",
       "      <td>0</td>\n",
       "      <td>45</td>\n",
       "      <td>13</td>\n",
       "      <td>40</td>\n",
       "      <td>13</td>\n",
       "      <td>0.585</td>\n",
       "      <td>0.427</td>\n",
       "      <td>3</td>\n",
       "      <td>1.012</td>\n",
       "    </tr>\n",
       "  </tbody>\n",
       "</table>\n",
       "<p>10 rows × 21 columns</p>\n",
       "</div>"
      ],
      "text/plain": [
       "           year    avg    G   AB   R    H  2B  3B  HR   TB  ...    SB  CS  BB  \\\n",
       "batter_id                                                   ...                 \n",
       "174        2007  0.000    3    1   0    0   0   0   0    0  ...     0   0   0   \n",
       "174        2010  0.267  127  374  48  100  14   1  20  176  ...     4   1  40   \n",
       "174        2011  0.301  119  376  43  113  14   3   4  145  ...     3   3  44   \n",
       "174        2012  0.279  122  359  39  100  22   1   5  139  ...     1   2  37   \n",
       "174        2013  0.248  114  311  37   77  19   0   7  117  ...     6   1  36   \n",
       "174        2014  0.294   97  296  40   87  23   1  10  142  ...     4   3  24   \n",
       "174        2015  0.326  132  442  70  144  27   0  20  231  ...     5   4  39   \n",
       "174        2016  0.319  108  332  66  106  17   0  22  189  ...     2   0  40   \n",
       "174        2017  0.277  111  347  47   96  15   0  14  153  ...     1   1  43   \n",
       "174        2018  0.358  133  439  84  157  29   1  23  257  ...     6   0  45   \n",
       "\n",
       "           HBP  SO  GDP    SLG    OBP   E    OPS  \n",
       "batter_id                                         \n",
       "174          0   0    0  0.000  0.000   0  0.000  \n",
       "174          8  68   12  0.471  0.348  10  0.819  \n",
       "174          3  58   12  0.386  0.375   6  0.761  \n",
       "174         10  51   17  0.387  0.361   5  0.748  \n",
       "174          8  50   11  0.376  0.338   4  0.714  \n",
       "174          9  34    8  0.480  0.360  10  0.840  \n",
       "174         24  64    7  0.523  0.405   6  0.928  \n",
       "174         12  29   20  0.569  0.404   7  0.973  \n",
       "174         12  53   17  0.441  0.373   5  0.814  \n",
       "174         13  40   13  0.585  0.427   3  1.012  \n",
       "\n",
       "[10 rows x 21 columns]"
      ]
     },
     "execution_count": 139,
     "metadata": {},
     "output_type": "execute_result"
    }
   ],
   "source": [
    "data1[data1.batter_name=='양의지'][['year'] + pre_features]"
   ]
  },
  {
   "cell_type": "markdown",
   "metadata": {},
   "source": [
    "## 전 시즌 데이터 추세"
   ]
  },
  {
   "cell_type": "code",
   "execution_count": 151,
   "metadata": {},
   "outputs": [],
   "source": [
    "def pre_data_trend(data, names, features):\n",
    "    for feature in features:\n",
    "        for name in names:\n",
    "            data_batter = data[data.batter_name==name][['year',feature]]\n",
    "            year_diff = data_batter.year.iloc[-1] - data_batter.year.iloc[0]\n",
    "            pre_trend = list()\n",
    "            # 전전 시즌과 전시즌 데이터가 있어야 이전 추세를 구할 수 있기때문에 시즌참여횟수가 최소 3회는 되어야함\n",
    "            if data_batter.shape[0] < 3:\n",
    "                pre_trend = 0 \n",
    "            else:\n",
    "                for y in range(data_batter.shape[0]):\n",
    "                    data_pre = data_batter.iloc[:y+1,:]\n",
    "                    pre_weight = 0\n",
    "                    # 위와 마찬가지 다만 시즌참여 횟수가 3회이상인 경우 누점참여수가 2회까지는 모두 0\n",
    "                    if data_pre.shape[0]!=3:\n",
    "                        for i in range(2, data_pre.shape[0]):\n",
    "                            # 전시즌과 전전시즌의 pre가 0이면 pass\n",
    "                            if (data_pre[feature].iloc[i-1] == 0) | (data_pre[feature].iloc[i-2] == 0):\n",
    "                                continue\n",
    "                            else:\n",
    "                                pre_rate = (data_pre[feature].iloc[i-1]/data_pre[feature].iloc[i-2])\n",
    "                                if pre_rate < 1:\n",
    "                                    pre_rate = -pre_rate\n",
    "                                pre_weight += ((data_pre.year.iloc[i]-data_pre.year.iloc[i-1])/year_diff) * pre_rate\n",
    "                    pre_trend.append(np.round(pre_weight,3))\n",
    "            data.loc[data.batter_name==name,'pre_{}_trend'.format(feature)] = pre_trend\n",
    "    return data"
   ]
  },
  {
   "cell_type": "code",
   "execution_count": 156,
   "metadata": {},
   "outputs": [],
   "source": [
    "data_temp = data1.copy()\n",
    "data_temp = pre_data_trend(data_temp, names, pre_features)"
   ]
  },
  {
   "cell_type": "code",
   "execution_count": 157,
   "metadata": {},
   "outputs": [
    {
     "data": {
      "text/html": [
       "<div>\n",
       "<style scoped>\n",
       "    .dataframe tbody tr th:only-of-type {\n",
       "        vertical-align: middle;\n",
       "    }\n",
       "\n",
       "    .dataframe tbody tr th {\n",
       "        vertical-align: top;\n",
       "    }\n",
       "\n",
       "    .dataframe thead th {\n",
       "        text-align: right;\n",
       "    }\n",
       "</style>\n",
       "<table border=\"1\" class=\"dataframe\">\n",
       "  <thead>\n",
       "    <tr style=\"text-align: right;\">\n",
       "      <th></th>\n",
       "      <th>year</th>\n",
       "      <th>pre_avg_trend</th>\n",
       "      <th>pre_G_trend</th>\n",
       "      <th>pre_AB_trend</th>\n",
       "      <th>pre_R_trend</th>\n",
       "      <th>pre_H_trend</th>\n",
       "      <th>pre_2B_trend</th>\n",
       "      <th>pre_3B_trend</th>\n",
       "      <th>pre_HR_trend</th>\n",
       "      <th>pre_TB_trend</th>\n",
       "      <th>...</th>\n",
       "      <th>pre_SB_trend</th>\n",
       "      <th>pre_CS_trend</th>\n",
       "      <th>pre_BB_trend</th>\n",
       "      <th>pre_HBP_trend</th>\n",
       "      <th>pre_SO_trend</th>\n",
       "      <th>pre_GDP_trend</th>\n",
       "      <th>pre_SLG_trend</th>\n",
       "      <th>pre_OBP_trend</th>\n",
       "      <th>pre_E_trend</th>\n",
       "      <th>pre_OPS_trend</th>\n",
       "    </tr>\n",
       "    <tr>\n",
       "      <th>batter_id</th>\n",
       "      <th></th>\n",
       "      <th></th>\n",
       "      <th></th>\n",
       "      <th></th>\n",
       "      <th></th>\n",
       "      <th></th>\n",
       "      <th></th>\n",
       "      <th></th>\n",
       "      <th></th>\n",
       "      <th></th>\n",
       "      <th></th>\n",
       "      <th></th>\n",
       "      <th></th>\n",
       "      <th></th>\n",
       "      <th></th>\n",
       "      <th></th>\n",
       "      <th></th>\n",
       "      <th></th>\n",
       "      <th></th>\n",
       "      <th></th>\n",
       "      <th></th>\n",
       "    </tr>\n",
       "  </thead>\n",
       "  <tbody>\n",
       "    <tr>\n",
       "      <th>174</th>\n",
       "      <td>2007</td>\n",
       "      <td>0.000</td>\n",
       "      <td>0.000</td>\n",
       "      <td>0.000</td>\n",
       "      <td>0.000</td>\n",
       "      <td>0.000</td>\n",
       "      <td>0.000</td>\n",
       "      <td>0.000</td>\n",
       "      <td>0.000</td>\n",
       "      <td>0.000</td>\n",
       "      <td>...</td>\n",
       "      <td>0.000</td>\n",
       "      <td>0.000</td>\n",
       "      <td>0.000</td>\n",
       "      <td>0.000</td>\n",
       "      <td>0.000</td>\n",
       "      <td>0.000</td>\n",
       "      <td>0.000</td>\n",
       "      <td>0.000</td>\n",
       "      <td>0.000</td>\n",
       "      <td>0.000</td>\n",
       "    </tr>\n",
       "    <tr>\n",
       "      <th>174</th>\n",
       "      <td>2010</td>\n",
       "      <td>0.000</td>\n",
       "      <td>0.000</td>\n",
       "      <td>0.000</td>\n",
       "      <td>0.000</td>\n",
       "      <td>0.000</td>\n",
       "      <td>0.000</td>\n",
       "      <td>0.000</td>\n",
       "      <td>0.000</td>\n",
       "      <td>0.000</td>\n",
       "      <td>...</td>\n",
       "      <td>0.000</td>\n",
       "      <td>0.000</td>\n",
       "      <td>0.000</td>\n",
       "      <td>0.000</td>\n",
       "      <td>0.000</td>\n",
       "      <td>0.000</td>\n",
       "      <td>0.000</td>\n",
       "      <td>0.000</td>\n",
       "      <td>0.000</td>\n",
       "      <td>0.000</td>\n",
       "    </tr>\n",
       "    <tr>\n",
       "      <th>174</th>\n",
       "      <td>2011</td>\n",
       "      <td>0.000</td>\n",
       "      <td>0.000</td>\n",
       "      <td>0.000</td>\n",
       "      <td>0.000</td>\n",
       "      <td>0.000</td>\n",
       "      <td>0.000</td>\n",
       "      <td>0.000</td>\n",
       "      <td>0.000</td>\n",
       "      <td>0.000</td>\n",
       "      <td>...</td>\n",
       "      <td>0.000</td>\n",
       "      <td>0.000</td>\n",
       "      <td>0.000</td>\n",
       "      <td>0.000</td>\n",
       "      <td>0.000</td>\n",
       "      <td>0.000</td>\n",
       "      <td>0.000</td>\n",
       "      <td>0.000</td>\n",
       "      <td>0.000</td>\n",
       "      <td>0.000</td>\n",
       "    </tr>\n",
       "    <tr>\n",
       "      <th>174</th>\n",
       "      <td>2012</td>\n",
       "      <td>0.102</td>\n",
       "      <td>3.763</td>\n",
       "      <td>34.091</td>\n",
       "      <td>-0.081</td>\n",
       "      <td>0.103</td>\n",
       "      <td>0.091</td>\n",
       "      <td>0.273</td>\n",
       "      <td>-0.018</td>\n",
       "      <td>-0.075</td>\n",
       "      <td>...</td>\n",
       "      <td>-0.068</td>\n",
       "      <td>0.273</td>\n",
       "      <td>0.100</td>\n",
       "      <td>-0.034</td>\n",
       "      <td>-0.078</td>\n",
       "      <td>0.091</td>\n",
       "      <td>-0.075</td>\n",
       "      <td>0.098</td>\n",
       "      <td>-0.055</td>\n",
       "      <td>-0.084</td>\n",
       "    </tr>\n",
       "    <tr>\n",
       "      <th>174</th>\n",
       "      <td>2013</td>\n",
       "      <td>0.018</td>\n",
       "      <td>3.857</td>\n",
       "      <td>34.005</td>\n",
       "      <td>-0.164</td>\n",
       "      <td>0.022</td>\n",
       "      <td>0.234</td>\n",
       "      <td>0.242</td>\n",
       "      <td>0.095</td>\n",
       "      <td>-0.162</td>\n",
       "      <td>...</td>\n",
       "      <td>-0.098</td>\n",
       "      <td>0.212</td>\n",
       "      <td>0.024</td>\n",
       "      <td>0.269</td>\n",
       "      <td>-0.157</td>\n",
       "      <td>0.220</td>\n",
       "      <td>0.017</td>\n",
       "      <td>0.010</td>\n",
       "      <td>-0.130</td>\n",
       "      <td>-0.174</td>\n",
       "    </tr>\n",
       "    <tr>\n",
       "      <th>174</th>\n",
       "      <td>2014</td>\n",
       "      <td>-0.063</td>\n",
       "      <td>3.772</td>\n",
       "      <td>33.926</td>\n",
       "      <td>-0.250</td>\n",
       "      <td>-0.048</td>\n",
       "      <td>0.155</td>\n",
       "      <td>0.242</td>\n",
       "      <td>0.223</td>\n",
       "      <td>-0.239</td>\n",
       "      <td>...</td>\n",
       "      <td>0.447</td>\n",
       "      <td>0.167</td>\n",
       "      <td>-0.065</td>\n",
       "      <td>0.196</td>\n",
       "      <td>-0.247</td>\n",
       "      <td>0.161</td>\n",
       "      <td>-0.072</td>\n",
       "      <td>-0.075</td>\n",
       "      <td>-0.203</td>\n",
       "      <td>-0.261</td>\n",
       "    </tr>\n",
       "    <tr>\n",
       "      <th>174</th>\n",
       "      <td>2015</td>\n",
       "      <td>0.045</td>\n",
       "      <td>3.694</td>\n",
       "      <td>33.839</td>\n",
       "      <td>-0.152</td>\n",
       "      <td>0.055</td>\n",
       "      <td>0.265</td>\n",
       "      <td>0.242</td>\n",
       "      <td>0.353</td>\n",
       "      <td>-0.128</td>\n",
       "      <td>...</td>\n",
       "      <td>0.386</td>\n",
       "      <td>0.439</td>\n",
       "      <td>-0.126</td>\n",
       "      <td>0.298</td>\n",
       "      <td>-0.308</td>\n",
       "      <td>0.095</td>\n",
       "      <td>0.044</td>\n",
       "      <td>0.022</td>\n",
       "      <td>0.024</td>\n",
       "      <td>-0.154</td>\n",
       "    </tr>\n",
       "    <tr>\n",
       "      <th>174</th>\n",
       "      <td>2016</td>\n",
       "      <td>0.146</td>\n",
       "      <td>3.818</td>\n",
       "      <td>33.975</td>\n",
       "      <td>0.007</td>\n",
       "      <td>0.205</td>\n",
       "      <td>0.372</td>\n",
       "      <td>0.242</td>\n",
       "      <td>0.534</td>\n",
       "      <td>0.020</td>\n",
       "      <td>...</td>\n",
       "      <td>0.500</td>\n",
       "      <td>0.561</td>\n",
       "      <td>0.022</td>\n",
       "      <td>0.541</td>\n",
       "      <td>-0.137</td>\n",
       "      <td>0.015</td>\n",
       "      <td>0.143</td>\n",
       "      <td>0.124</td>\n",
       "      <td>-0.030</td>\n",
       "      <td>-0.053</td>\n",
       "    </tr>\n",
       "    <tr>\n",
       "      <th>174</th>\n",
       "      <td>2017</td>\n",
       "      <td>0.057</td>\n",
       "      <td>3.744</td>\n",
       "      <td>33.907</td>\n",
       "      <td>-0.078</td>\n",
       "      <td>0.139</td>\n",
       "      <td>0.315</td>\n",
       "      <td>0.242</td>\n",
       "      <td>0.634</td>\n",
       "      <td>-0.055</td>\n",
       "      <td>...</td>\n",
       "      <td>0.464</td>\n",
       "      <td>0.561</td>\n",
       "      <td>0.115</td>\n",
       "      <td>0.495</td>\n",
       "      <td>-0.178</td>\n",
       "      <td>0.275</td>\n",
       "      <td>0.242</td>\n",
       "      <td>0.034</td>\n",
       "      <td>0.076</td>\n",
       "      <td>0.042</td>\n",
       "    </tr>\n",
       "    <tr>\n",
       "      <th>174</th>\n",
       "      <td>2018</td>\n",
       "      <td>-0.022</td>\n",
       "      <td>3.837</td>\n",
       "      <td>34.002</td>\n",
       "      <td>-0.143</td>\n",
       "      <td>0.056</td>\n",
       "      <td>0.235</td>\n",
       "      <td>0.242</td>\n",
       "      <td>0.577</td>\n",
       "      <td>-0.128</td>\n",
       "      <td>...</td>\n",
       "      <td>0.418</td>\n",
       "      <td>0.561</td>\n",
       "      <td>0.213</td>\n",
       "      <td>0.586</td>\n",
       "      <td>-0.012</td>\n",
       "      <td>0.198</td>\n",
       "      <td>0.172</td>\n",
       "      <td>-0.050</td>\n",
       "      <td>0.011</td>\n",
       "      <td>-0.034</td>\n",
       "    </tr>\n",
       "  </tbody>\n",
       "</table>\n",
       "<p>10 rows × 21 columns</p>\n",
       "</div>"
      ],
      "text/plain": [
       "           year  pre_avg_trend  pre_G_trend  pre_AB_trend  pre_R_trend  \\\n",
       "batter_id                                                                \n",
       "174        2007          0.000        0.000         0.000        0.000   \n",
       "174        2010          0.000        0.000         0.000        0.000   \n",
       "174        2011          0.000        0.000         0.000        0.000   \n",
       "174        2012          0.102        3.763        34.091       -0.081   \n",
       "174        2013          0.018        3.857        34.005       -0.164   \n",
       "174        2014         -0.063        3.772        33.926       -0.250   \n",
       "174        2015          0.045        3.694        33.839       -0.152   \n",
       "174        2016          0.146        3.818        33.975        0.007   \n",
       "174        2017          0.057        3.744        33.907       -0.078   \n",
       "174        2018         -0.022        3.837        34.002       -0.143   \n",
       "\n",
       "           pre_H_trend  pre_2B_trend  pre_3B_trend  pre_HR_trend  \\\n",
       "batter_id                                                          \n",
       "174              0.000         0.000         0.000         0.000   \n",
       "174              0.000         0.000         0.000         0.000   \n",
       "174              0.000         0.000         0.000         0.000   \n",
       "174              0.103         0.091         0.273        -0.018   \n",
       "174              0.022         0.234         0.242         0.095   \n",
       "174             -0.048         0.155         0.242         0.223   \n",
       "174              0.055         0.265         0.242         0.353   \n",
       "174              0.205         0.372         0.242         0.534   \n",
       "174              0.139         0.315         0.242         0.634   \n",
       "174              0.056         0.235         0.242         0.577   \n",
       "\n",
       "           pre_TB_trend      ...        pre_SB_trend  pre_CS_trend  \\\n",
       "batter_id                    ...                                     \n",
       "174               0.000      ...               0.000         0.000   \n",
       "174               0.000      ...               0.000         0.000   \n",
       "174               0.000      ...               0.000         0.000   \n",
       "174              -0.075      ...              -0.068         0.273   \n",
       "174              -0.162      ...              -0.098         0.212   \n",
       "174              -0.239      ...               0.447         0.167   \n",
       "174              -0.128      ...               0.386         0.439   \n",
       "174               0.020      ...               0.500         0.561   \n",
       "174              -0.055      ...               0.464         0.561   \n",
       "174              -0.128      ...               0.418         0.561   \n",
       "\n",
       "           pre_BB_trend  pre_HBP_trend  pre_SO_trend  pre_GDP_trend  \\\n",
       "batter_id                                                             \n",
       "174               0.000          0.000         0.000          0.000   \n",
       "174               0.000          0.000         0.000          0.000   \n",
       "174               0.000          0.000         0.000          0.000   \n",
       "174               0.100         -0.034        -0.078          0.091   \n",
       "174               0.024          0.269        -0.157          0.220   \n",
       "174              -0.065          0.196        -0.247          0.161   \n",
       "174              -0.126          0.298        -0.308          0.095   \n",
       "174               0.022          0.541        -0.137          0.015   \n",
       "174               0.115          0.495        -0.178          0.275   \n",
       "174               0.213          0.586        -0.012          0.198   \n",
       "\n",
       "           pre_SLG_trend  pre_OBP_trend  pre_E_trend  pre_OPS_trend  \n",
       "batter_id                                                            \n",
       "174                0.000          0.000        0.000          0.000  \n",
       "174                0.000          0.000        0.000          0.000  \n",
       "174                0.000          0.000        0.000          0.000  \n",
       "174               -0.075          0.098       -0.055         -0.084  \n",
       "174                0.017          0.010       -0.130         -0.174  \n",
       "174               -0.072         -0.075       -0.203         -0.261  \n",
       "174                0.044          0.022        0.024         -0.154  \n",
       "174                0.143          0.124       -0.030         -0.053  \n",
       "174                0.242          0.034        0.076          0.042  \n",
       "174                0.172         -0.050        0.011         -0.034  \n",
       "\n",
       "[10 rows x 21 columns]"
      ]
     },
     "execution_count": 157,
     "metadata": {},
     "output_type": "execute_result"
    }
   ],
   "source": [
    "def pre_col_trend(x):\n",
    "    return 'pre_{}_trend'.format(x)\n",
    "temp = data_temp.drop(pre_features, axis=1)\n",
    "temp[temp.batter_name=='양의지'][['year'] + list(map(pre_col_trend,pre_features))]"
   ]
  },
  {
   "cell_type": "markdown",
   "metadata": {},
   "source": [
    "## Autocorrelation"
   ]
  },
  {
   "cell_type": "code",
   "execution_count": 25,
   "metadata": {},
   "outputs": [],
   "source": [
    "def get_self_corr(var,data):\n",
    "    x=[]\n",
    "    y=[]\n",
    "    data1=data.loc[data['AB']>=50,]\n",
    "    for name in data1['batter_name'].unique():\n",
    "        a=data1.loc[data1['batter_name']==name,].sort_values('year')\n",
    "        k=[]\n",
    "        for i in a['year'].unique():\n",
    "            if (a['year']==i+1).sum()==1:\n",
    "                k.append(i)\n",
    "        for i in k:\n",
    "            x.append(a.loc[a['year']==i,var].iloc[0])\n",
    "            y.append(a.loc[a['year']==i+1,var].iloc[0])\n",
    "    plt.scatter(x,y)\n",
    "    plt.title(var)\n",
    "    plt.show()\n",
    "    print(pd.Series(x).corr(pd.Series(y))**2)\n",
    "    "
   ]
  },
  {
   "cell_type": "code",
   "execution_count": 26,
   "metadata": {},
   "outputs": [],
   "source": [
    "data_temp['1B']=data_temp['H']-data_temp['2B']-data_temp['3B']-data_temp['HR']"
   ]
  },
  {
   "cell_type": "code",
   "execution_count": 30,
   "metadata": {
    "scrolled": true
   },
   "outputs": [
    {
     "data": {
      "image/png": "[encoded data removed]",
      "text/plain": [
       "<Figure size 432x288 with 1 Axes>"
      ]
     },
     "metadata": {},
     "output_type": "display_data"
    },
    {
     "name": "stdout",
     "output_type": "stream",
     "text": [
      "0.17987194251531402\n"
     ]
    },
    {
     "data": {
      "image/png": "[encoded data removed]",
      "text/plain": [
       "<Figure size 432x288 with 1 Axes>"
      ]
     },
     "metadata": {},
     "output_type": "display_data"
    },
    {
     "name": "stdout",
     "output_type": "stream",
     "text": [
      "0.14796062415034467\n"
     ]
    },
    {
     "data": {
      "image/png": "[encoded data removed]",
      "text/plain": [
       "<Figure size 432x288 with 1 Axes>"
      ]
     },
     "metadata": {},
     "output_type": "display_data"
    },
    {
     "name": "stdout",
     "output_type": "stream",
     "text": [
      "0.36023294084805385\n"
     ]
    },
    {
     "data": {
      "image/png": "[encoded data removed]",
      "text/plain": [
       "<Figure size 432x288 with 1 Axes>"
      ]
     },
     "metadata": {},
     "output_type": "display_data"
    },
    {
     "name": "stdout",
     "output_type": "stream",
     "text": [
      "0.42490694253781364\n"
     ]
    },
    {
     "data": {
      "image/png": "[encoded data removed]",
      "text/plain": [
       "<Figure size 432x288 with 1 Axes>"
      ]
     },
     "metadata": {},
     "output_type": "display_data"
    },
    {
     "name": "stdout",
     "output_type": "stream",
     "text": [
      "0.4002197195143025\n"
     ]
    },
    {
     "data": {
      "image/png": "[encoded data removed]",
      "text/plain": [
       "<Figure size 432x288 with 1 Axes>"
      ]
     },
     "metadata": {},
     "output_type": "display_data"
    },
    {
     "name": "stdout",
     "output_type": "stream",
     "text": [
      "0.3216523588655753\n"
     ]
    },
    {
     "data": {
      "image/png": "[encoded data removed]",
      "text/plain": [
       "<Figure size 432x288 with 1 Axes>"
      ]
     },
     "metadata": {},
     "output_type": "display_data"
    },
    {
     "name": "stdout",
     "output_type": "stream",
     "text": [
      "0.2001112514921482\n"
     ]
    },
    {
     "data": {
      "image/png": "[encoded data removed]",
      "text/plain": [
       "<Figure size 432x288 with 1 Axes>"
      ]
     },
     "metadata": {},
     "output_type": "display_data"
    },
    {
     "name": "stdout",
     "output_type": "stream",
     "text": [
      "0.5505976292944422\n"
     ]
    },
    {
     "data": {
      "image/png": "[encoded data removed]",
      "text/plain": [
       "<Figure size 432x288 with 1 Axes>"
      ]
     },
     "metadata": {},
     "output_type": "display_data"
    },
    {
     "name": "stdout",
     "output_type": "stream",
     "text": [
      "0.4501791511519686\n"
     ]
    },
    {
     "data": {
      "image/png": "[encoded data removed]",
      "text/plain": [
       "<Figure size 432x288 with 1 Axes>"
      ]
     },
     "metadata": {},
     "output_type": "display_data"
    },
    {
     "name": "stdout",
     "output_type": "stream",
     "text": [
      "0.4591777705797566\n"
     ]
    },
    {
     "data": {
      "image/png": "[encoded data removed]",
      "text/plain": [
       "<Figure size 432x288 with 1 Axes>"
      ]
     },
     "metadata": {},
     "output_type": "display_data"
    },
    {
     "name": "stdout",
     "output_type": "stream",
     "text": [
      "0.5112843817065361\n"
     ]
    },
    {
     "data": {
      "image/png": "[encoded data removed]",
      "text/plain": [
       "<Figure size 432x288 with 1 Axes>"
      ]
     },
     "metadata": {},
     "output_type": "display_data"
    },
    {
     "name": "stdout",
     "output_type": "stream",
     "text": [
      "0.3294028563165095\n"
     ]
    },
    {
     "data": {
      "image/png": "[encoded data removed]",
      "text/plain": [
       "<Figure size 432x288 with 1 Axes>"
      ]
     },
     "metadata": {},
     "output_type": "display_data"
    },
    {
     "name": "stdout",
     "output_type": "stream",
     "text": [
      "0.4540205212597894\n"
     ]
    },
    {
     "data": {
      "image/png": "[encoded data removed]",
      "text/plain": [
       "<Figure size 432x288 with 1 Axes>"
      ]
     },
     "metadata": {},
     "output_type": "display_data"
    },
    {
     "name": "stdout",
     "output_type": "stream",
     "text": [
      "0.3079942963187538\n"
     ]
    },
    {
     "data": {
      "image/png": "[encoded data removed]",
      "text/plain": [
       "<Figure size 432x288 with 1 Axes>"
      ]
     },
     "metadata": {},
     "output_type": "display_data"
    },
    {
     "name": "stdout",
     "output_type": "stream",
     "text": [
      "0.3266394990670342\n"
     ]
    },
    {
     "data": {
      "image/png": "[encoded data removed]",
      "text/plain": [
       "<Figure size 432x288 with 1 Axes>"
      ]
     },
     "metadata": {},
     "output_type": "display_data"
    },
    {
     "name": "stdout",
     "output_type": "stream",
     "text": [
      "0.2842618874640301\n"
     ]
    },
    {
     "data": {
      "image/png": "[encoded data removed]",
      "text/plain": [
       "<Figure size 432x288 with 1 Axes>"
      ]
     },
     "metadata": {},
     "output_type": "display_data"
    },
    {
     "name": "stdout",
     "output_type": "stream",
     "text": [
      "0.34842613998481037\n"
     ]
    },
    {
     "data": {
      "image/png": "[encoded data removed]",
      "text/plain": [
       "<Figure size 432x288 with 1 Axes>"
      ]
     },
     "metadata": {},
     "output_type": "display_data"
    },
    {
     "name": "stdout",
     "output_type": "stream",
     "text": [
      "0.25601659738563093\n"
     ]
    },
    {
     "data": {
      "image/png": "[encoded data removed]",
      "text/plain": [
       "<Figure size 432x288 with 1 Axes>"
      ]
     },
     "metadata": {},
     "output_type": "display_data"
    },
    {
     "name": "stdout",
     "output_type": "stream",
     "text": [
      "0.38461957015223464\n"
     ]
    }
   ],
   "source": [
    "for f in ['avg', 'G', 'AB', 'R', 'H', '2B', '3B','HR', 'TB', 'RBI', 'SB', 'CS', 'BB', 'HBP', 'SO', 'GDP', 'SLG', 'OBP','E']:\n",
    "    get_self_corr(f,data_temp)"
   ]
  },
  {
   "cell_type": "markdown",
   "metadata": {},
   "source": [
    "## Position, team"
   ]
  },
  {
   "cell_type": "code",
   "execution_count": 19,
   "metadata": {},
   "outputs": [],
   "source": [
    "def categorical_variables(data, features):\n",
    "    data = dummy_feature(data, features)\n",
    "    return data"
   ]
  },
  {
   "cell_type": "code",
   "execution_count": 20,
   "metadata": {},
   "outputs": [],
   "source": [
    "cat_features = ['position1','position2','team']\n",
    "data_temp = categorical_variables(data_temp, cat_features)"
   ]
  },
  {
   "cell_type": "code",
   "execution_count": 21,
   "metadata": {},
   "outputs": [
    {
     "data": {
      "text/html": [
       "<div>\n",
       "<style scoped>\n",
       "    .dataframe tbody tr th:only-of-type {\n",
       "        vertical-align: middle;\n",
       "    }\n",
       "\n",
       "    .dataframe tbody tr th {\n",
       "        vertical-align: top;\n",
       "    }\n",
       "\n",
       "    .dataframe thead th {\n",
       "        text-align: right;\n",
       "    }\n",
       "</style>\n",
       "<table border=\"1\" class=\"dataframe\">\n",
       "  <thead>\n",
       "    <tr style=\"text-align: right;\">\n",
       "      <th></th>\n",
       "      <th>batter_name</th>\n",
       "      <th>year</th>\n",
       "      <th>team</th>\n",
       "      <th>avg</th>\n",
       "      <th>G</th>\n",
       "      <th>AB</th>\n",
       "      <th>R</th>\n",
       "      <th>H</th>\n",
       "      <th>2B</th>\n",
       "      <th>3B</th>\n",
       "      <th>...</th>\n",
       "      <th>team_넥센</th>\n",
       "      <th>team_두산</th>\n",
       "      <th>team_롯데</th>\n",
       "      <th>team_삼성</th>\n",
       "      <th>team_쌍방울</th>\n",
       "      <th>team_우리</th>\n",
       "      <th>team_한화</th>\n",
       "      <th>team_해태</th>\n",
       "      <th>team_현대</th>\n",
       "      <th>team_히어로즈</th>\n",
       "    </tr>\n",
       "  </thead>\n",
       "  <tbody>\n",
       "    <tr>\n",
       "      <th>0</th>\n",
       "      <td>가르시아</td>\n",
       "      <td>2018</td>\n",
       "      <td>LG</td>\n",
       "      <td>0.339</td>\n",
       "      <td>50</td>\n",
       "      <td>183</td>\n",
       "      <td>27</td>\n",
       "      <td>62</td>\n",
       "      <td>9</td>\n",
       "      <td>0</td>\n",
       "      <td>...</td>\n",
       "      <td>0</td>\n",
       "      <td>0</td>\n",
       "      <td>0</td>\n",
       "      <td>0</td>\n",
       "      <td>0</td>\n",
       "      <td>0</td>\n",
       "      <td>0</td>\n",
       "      <td>0</td>\n",
       "      <td>0</td>\n",
       "      <td>0</td>\n",
       "    </tr>\n",
       "    <tr>\n",
       "      <th>1</th>\n",
       "      <td>강경학</td>\n",
       "      <td>2011</td>\n",
       "      <td>한화</td>\n",
       "      <td>0.000</td>\n",
       "      <td>2</td>\n",
       "      <td>1</td>\n",
       "      <td>0</td>\n",
       "      <td>0</td>\n",
       "      <td>0</td>\n",
       "      <td>0</td>\n",
       "      <td>...</td>\n",
       "      <td>0</td>\n",
       "      <td>0</td>\n",
       "      <td>0</td>\n",
       "      <td>0</td>\n",
       "      <td>0</td>\n",
       "      <td>0</td>\n",
       "      <td>1</td>\n",
       "      <td>0</td>\n",
       "      <td>0</td>\n",
       "      <td>0</td>\n",
       "    </tr>\n",
       "    <tr>\n",
       "      <th>2</th>\n",
       "      <td>강경학</td>\n",
       "      <td>2014</td>\n",
       "      <td>한화</td>\n",
       "      <td>0.221</td>\n",
       "      <td>41</td>\n",
       "      <td>86</td>\n",
       "      <td>11</td>\n",
       "      <td>19</td>\n",
       "      <td>2</td>\n",
       "      <td>3</td>\n",
       "      <td>...</td>\n",
       "      <td>0</td>\n",
       "      <td>0</td>\n",
       "      <td>0</td>\n",
       "      <td>0</td>\n",
       "      <td>0</td>\n",
       "      <td>0</td>\n",
       "      <td>1</td>\n",
       "      <td>0</td>\n",
       "      <td>0</td>\n",
       "      <td>0</td>\n",
       "    </tr>\n",
       "    <tr>\n",
       "      <th>3</th>\n",
       "      <td>강경학</td>\n",
       "      <td>2015</td>\n",
       "      <td>한화</td>\n",
       "      <td>0.257</td>\n",
       "      <td>120</td>\n",
       "      <td>311</td>\n",
       "      <td>50</td>\n",
       "      <td>80</td>\n",
       "      <td>7</td>\n",
       "      <td>4</td>\n",
       "      <td>...</td>\n",
       "      <td>0</td>\n",
       "      <td>0</td>\n",
       "      <td>0</td>\n",
       "      <td>0</td>\n",
       "      <td>0</td>\n",
       "      <td>0</td>\n",
       "      <td>1</td>\n",
       "      <td>0</td>\n",
       "      <td>0</td>\n",
       "      <td>0</td>\n",
       "    </tr>\n",
       "    <tr>\n",
       "      <th>4</th>\n",
       "      <td>강경학</td>\n",
       "      <td>2016</td>\n",
       "      <td>한화</td>\n",
       "      <td>0.158</td>\n",
       "      <td>46</td>\n",
       "      <td>101</td>\n",
       "      <td>16</td>\n",
       "      <td>16</td>\n",
       "      <td>3</td>\n",
       "      <td>2</td>\n",
       "      <td>...</td>\n",
       "      <td>0</td>\n",
       "      <td>0</td>\n",
       "      <td>0</td>\n",
       "      <td>0</td>\n",
       "      <td>0</td>\n",
       "      <td>0</td>\n",
       "      <td>1</td>\n",
       "      <td>0</td>\n",
       "      <td>0</td>\n",
       "      <td>0</td>\n",
       "    </tr>\n",
       "  </tbody>\n",
       "</table>\n",
       "<p>5 rows × 51 columns</p>\n",
       "</div>"
      ],
      "text/plain": [
       "  batter_name  year team    avg    G   AB   R   H  2B  3B    ...      team_넥센  \\\n",
       "0        가르시아  2018   LG  0.339   50  183  27  62   9   0    ...            0   \n",
       "1         강경학  2011   한화  0.000    2    1   0   0   0   0    ...            0   \n",
       "2         강경학  2014   한화  0.221   41   86  11  19   2   3    ...            0   \n",
       "3         강경학  2015   한화  0.257  120  311  50  80   7   4    ...            0   \n",
       "4         강경학  2016   한화  0.158   46  101  16  16   3   2    ...            0   \n",
       "\n",
       "   team_두산  team_롯데  team_삼성  team_쌍방울  team_우리  team_한화  team_해태  team_현대  \\\n",
       "0        0        0        0         0        0        0        0        0   \n",
       "1        0        0        0         0        0        1        0        0   \n",
       "2        0        0        0         0        0        1        0        0   \n",
       "3        0        0        0         0        0        1        0        0   \n",
       "4        0        0        0         0        0        1        0        0   \n",
       "\n",
       "   team_히어로즈  \n",
       "0          0  \n",
       "1          0  \n",
       "2          0  \n",
       "3          0  \n",
       "4          0  \n",
       "\n",
       "[5 rows x 51 columns]"
      ]
     },
     "execution_count": 21,
     "metadata": {},
     "output_type": "execute_result"
    }
   ],
   "source": [
    "data_temp.head()"
   ]
  },
  {
   "cell_type": "markdown",
   "metadata": {},
   "source": [
    "## Missing value"
   ]
  },
  {
   "cell_type": "markdown",
   "metadata": {},
   "source": [
    "**나머지 결측값은 모두 0으로 처리한다.**\n",
    "- 이유는 타수가 0 이여서 OPS,SLG(장타율)는 0이고 OBP(출루율)는 타수가 아닌 사유로 생기는 경우가 있기 때문에 NaN이 아닌 값도 있다.\n",
    "- 출루율이 1인경우는 볼넷"
   ]
  },
  {
   "cell_type": "code",
   "execution_count": null,
   "metadata": {},
   "outputs": [],
   "source": [
    "features = ['avg','G','AB','R','H','2B','3B','HR','TB','RBI','SB','CS','BB','HBP','SO','GDP','SLG','OBP','E','OPS']\n",
    "data_temp[data_temp.SLG.isnull() | data_temp.OBP.isnull()].loc[:,features]"
   ]
  },
  {
   "cell_type": "code",
   "execution_count": null,
   "metadata": {},
   "outputs": [],
   "source": [
    "def OPS_nan_(data):\n",
    "    data = data.fillna(0)\n",
    "    return data"
   ]
  },
  {
   "cell_type": "code",
   "execution_count": null,
   "metadata": {},
   "outputs": [],
   "source": [
    "data_temp = OPS_nan_(data_temp)"
   ]
  },
  {
   "cell_type": "markdown",
   "metadata": {},
   "source": [
    "## Drop feature"
   ]
  },
  {
   "cell_type": "code",
   "execution_count": null,
   "metadata": {},
   "outputs": [],
   "source": [
    "# drop_features = ['team','position','career']\n",
    "# data_temp = data_temp.drop(drop_features, axis=1)"
   ]
  }
 ],
 "metadata": {
  "hide_input": false,
  "kernelspec": {
   "display_name": "Python 3",
   "language": "python",
   "name": "python3"
  },
  "language_info": {
   "codemirror_mode": {
    "name": "ipython",
    "version": 3
   },
   "file_extension": ".py",
   "mimetype": "text/x-python",
   "name": "python",
   "nbconvert_exporter": "python",
   "pygments_lexer": "ipython3",
   "version": "3.6.5"
  },
  "toc": {
   "base_numbering": 1,
   "nav_menu": {},
   "number_sections": true,
   "sideBar": true,
   "skip_h1_title": false,
   "title_cell": "Table of Contents",
   "title_sidebar": "Contents",
   "toc_cell": true,
   "toc_position": {
    "height": "calc(100% - 180px)",
    "left": "10px",
    "top": "150px",
    "width": "192px"
   },
   "toc_section_display": true,
   "toc_window_display": false
  },
  "varInspector": {
   "cols": {
    "lenName": 16,
    "lenType": 16,
    "lenVar": 40
   },
   "kernels_config": {
    "python": {
     "delete_cmd_postfix": "",
     "delete_cmd_prefix": "del ",
     "library": "var_list.py",
     "varRefreshCmd": "print(var_dic_list())"
    },
    "r": {
     "delete_cmd_postfix": ") ",
     "delete_cmd_prefix": "rm(",
     "library": "var_list.r",
     "varRefreshCmd": "cat(var_dic_list()) "
    }
   },
   "types_to_exclude": [
    "module",
    "function",
    "builtin_function_or_method",
    "instance",
    "_Feature"
   ],
   "window_display": false
  }
 },
 "nbformat": 4,
 "nbformat_minor": 2
}
