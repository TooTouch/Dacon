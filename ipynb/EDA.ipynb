{
 "cells": [
  {
   "cell_type": "code",
   "execution_count": 1,
   "metadata": {},
   "outputs": [],
   "source": [
    "import pandas as pd\n",
    "import numpy as np\n",
    "import os\n",
    "\n",
    "import matplotlib.pyplot as plt\n",
    "import seaborn as sns"
   ]
  },
  {
   "cell_type": "code",
   "execution_count": 2,
   "metadata": {},
   "outputs": [],
   "source": [
    "data1 = pd.read_csv('../dataset/Regular_Season_Batter.csv')\n",
    "data2 = pd.read_csv('../dataset/Regular_Season_Batter_Day_by_Day.csv')\n",
    "data3 = pd.read_csv('../dataset/Pre_Season_Batter.csv')\n",
    "data4 = pd.read_csv('../dataset/submission.csv')"
   ]
  },
  {
   "cell_type": "code",
   "execution_count": 3,
   "metadata": {},
   "outputs": [
    {
     "name": "stdout",
     "output_type": "stream",
     "text": [
      "data1.shape:  (2454, 29)\n",
      "data2.shape:  (109771, 20)\n",
      "data3.shape:  (1393, 29)\n",
      "data4.shape:  (220, 2)\n"
     ]
    }
   ],
   "source": [
    "print('data1.shape: ',data1.shape)\n",
    "print('data2.shape: ',data2.shape)\n",
    "print('data3.shape: ',data3.shape)\n",
    "print('data4.shape: ',data4.shape)"
   ]
  },
  {
   "cell_type": "markdown",
   "metadata": {},
   "source": [
    "## 범주형자료\n",
    "- year\n",
    "    - 시즌별 중간에 쉰 횟수 (부상의 가능성이 있을 수 있다.)\n",
    "- team\n",
    "- position\n",
    "\n",
    "\n",
    "## 연속형자료\n",
    "- 나머지"
   ]
  },
  {
   "cell_type": "markdown",
   "metadata": {},
   "source": [
    "# train set, validation set, test set\n",
    "- train set\n",
    "    - 1995~2017년까지의 data\n",
    "- validation set\n",
    "    - 2018년까지의 data\n",
    "- test set\n",
    "    - 2019년 선수별 성적"
   ]
  },
  {
   "cell_type": "markdown",
   "metadata": {},
   "source": [
    "# OPS ( OBP + SLG )\n",
    "## OBP\n",
    "- https://ko.wikipedia.org/wiki/%EC%B6%9C%EB%A3%A8%EC%9C%A8\n",
    "- 여기서 데이터에 없는건 희생플라이(SF)\n",
    "\n",
    "## SLG\n",
    "- https://ko.wikipedia.org/wiki/%EC%9E%A5%ED%83%80%EC%9C%A8"
   ]
  },
  {
   "cell_type": "markdown",
   "metadata": {},
   "source": [
    "# Regular_Season_Batter"
   ]
  },
  {
   "cell_type": "code",
   "execution_count": 4,
   "metadata": {},
   "outputs": [
    {
     "name": "stdout",
     "output_type": "stream",
     "text": [
      "<class 'pandas.core.frame.DataFrame'>\n",
      "RangeIndex: 2454 entries, 0 to 2453\n",
      "Data columns (total 29 columns):\n",
      "batter_id          2454 non-null int64\n",
      "batter_name        2454 non-null object\n",
      "year               2454 non-null int64\n",
      "team               2454 non-null object\n",
      "avg                2428 non-null float64\n",
      "G                  2454 non-null int64\n",
      "AB                 2454 non-null int64\n",
      "R                  2454 non-null int64\n",
      "H                  2454 non-null int64\n",
      "2B                 2454 non-null int64\n",
      "3B                 2454 non-null int64\n",
      "HR                 2454 non-null int64\n",
      "TB                 2454 non-null int64\n",
      "RBI                2454 non-null int64\n",
      "SB                 2454 non-null int64\n",
      "CS                 2454 non-null int64\n",
      "BB                 2454 non-null int64\n",
      "HBP                2454 non-null int64\n",
      "SO                 2454 non-null int64\n",
      "GDP                2454 non-null int64\n",
      "SLG                2428 non-null float64\n",
      "OBP                2430 non-null float64\n",
      "E                  2454 non-null int64\n",
      "height/weight      1652 non-null object\n",
      "year_born          2454 non-null object\n",
      "position           1652 non-null object\n",
      "career             2454 non-null object\n",
      "starting_salary    1387 non-null object\n",
      "OPS                2428 non-null float64\n",
      "dtypes: float64(4), int64(18), object(7)\n",
      "memory usage: 556.1+ KB\n"
     ]
    }
   ],
   "source": [
    "data1.info()"
   ]
  },
  {
   "cell_type": "code",
   "execution_count": 5,
   "metadata": {},
   "outputs": [
    {
     "data": {
      "text/html": [
       "<div>\n",
       "<style scoped>\n",
       "    .dataframe tbody tr th:only-of-type {\n",
       "        vertical-align: middle;\n",
       "    }\n",
       "\n",
       "    .dataframe tbody tr th {\n",
       "        vertical-align: top;\n",
       "    }\n",
       "\n",
       "    .dataframe thead th {\n",
       "        text-align: right;\n",
       "    }\n",
       "</style>\n",
       "<table border=\"1\" class=\"dataframe\">\n",
       "  <thead>\n",
       "    <tr style=\"text-align: right;\">\n",
       "      <th></th>\n",
       "      <th>batter_id</th>\n",
       "      <th>batter_name</th>\n",
       "      <th>year</th>\n",
       "      <th>team</th>\n",
       "      <th>avg</th>\n",
       "      <th>G</th>\n",
       "      <th>AB</th>\n",
       "      <th>R</th>\n",
       "      <th>H</th>\n",
       "      <th>2B</th>\n",
       "      <th>...</th>\n",
       "      <th>GDP</th>\n",
       "      <th>SLG</th>\n",
       "      <th>OBP</th>\n",
       "      <th>E</th>\n",
       "      <th>height/weight</th>\n",
       "      <th>year_born</th>\n",
       "      <th>position</th>\n",
       "      <th>career</th>\n",
       "      <th>starting_salary</th>\n",
       "      <th>OPS</th>\n",
       "    </tr>\n",
       "  </thead>\n",
       "  <tbody>\n",
       "    <tr>\n",
       "      <th>0</th>\n",
       "      <td>0</td>\n",
       "      <td>가르시아</td>\n",
       "      <td>2018</td>\n",
       "      <td>LG</td>\n",
       "      <td>0.339</td>\n",
       "      <td>50</td>\n",
       "      <td>183</td>\n",
       "      <td>27</td>\n",
       "      <td>62</td>\n",
       "      <td>9</td>\n",
       "      <td>...</td>\n",
       "      <td>3</td>\n",
       "      <td>0.519</td>\n",
       "      <td>0.383</td>\n",
       "      <td>9</td>\n",
       "      <td>177cm/93kg</td>\n",
       "      <td>1985년 04월 12일</td>\n",
       "      <td>내야수(우투우타)</td>\n",
       "      <td>쿠바 Ciego de Avila Maximo Gomez Baez(대)</td>\n",
       "      <td>NaN</td>\n",
       "      <td>0.902</td>\n",
       "    </tr>\n",
       "    <tr>\n",
       "      <th>1</th>\n",
       "      <td>1</td>\n",
       "      <td>강경학</td>\n",
       "      <td>2011</td>\n",
       "      <td>한화</td>\n",
       "      <td>0.000</td>\n",
       "      <td>2</td>\n",
       "      <td>1</td>\n",
       "      <td>0</td>\n",
       "      <td>0</td>\n",
       "      <td>0</td>\n",
       "      <td>...</td>\n",
       "      <td>0</td>\n",
       "      <td>0.000</td>\n",
       "      <td>0.000</td>\n",
       "      <td>1</td>\n",
       "      <td>180cm/72kg</td>\n",
       "      <td>1992년 08월 11일</td>\n",
       "      <td>내야수(우투좌타)</td>\n",
       "      <td>광주대성초-광주동성중-광주동성고</td>\n",
       "      <td>10000만원</td>\n",
       "      <td>0.000</td>\n",
       "    </tr>\n",
       "    <tr>\n",
       "      <th>2</th>\n",
       "      <td>1</td>\n",
       "      <td>강경학</td>\n",
       "      <td>2014</td>\n",
       "      <td>한화</td>\n",
       "      <td>0.221</td>\n",
       "      <td>41</td>\n",
       "      <td>86</td>\n",
       "      <td>11</td>\n",
       "      <td>19</td>\n",
       "      <td>2</td>\n",
       "      <td>...</td>\n",
       "      <td>1</td>\n",
       "      <td>0.349</td>\n",
       "      <td>0.337</td>\n",
       "      <td>6</td>\n",
       "      <td>180cm/72kg</td>\n",
       "      <td>1992년 08월 11일</td>\n",
       "      <td>내야수(우투좌타)</td>\n",
       "      <td>광주대성초-광주동성중-광주동성고</td>\n",
       "      <td>10000만원</td>\n",
       "      <td>0.686</td>\n",
       "    </tr>\n",
       "    <tr>\n",
       "      <th>3</th>\n",
       "      <td>1</td>\n",
       "      <td>강경학</td>\n",
       "      <td>2015</td>\n",
       "      <td>한화</td>\n",
       "      <td>0.257</td>\n",
       "      <td>120</td>\n",
       "      <td>311</td>\n",
       "      <td>50</td>\n",
       "      <td>80</td>\n",
       "      <td>7</td>\n",
       "      <td>...</td>\n",
       "      <td>3</td>\n",
       "      <td>0.325</td>\n",
       "      <td>0.348</td>\n",
       "      <td>15</td>\n",
       "      <td>180cm/72kg</td>\n",
       "      <td>1992년 08월 11일</td>\n",
       "      <td>내야수(우투좌타)</td>\n",
       "      <td>광주대성초-광주동성중-광주동성고</td>\n",
       "      <td>10000만원</td>\n",
       "      <td>0.673</td>\n",
       "    </tr>\n",
       "    <tr>\n",
       "      <th>4</th>\n",
       "      <td>1</td>\n",
       "      <td>강경학</td>\n",
       "      <td>2016</td>\n",
       "      <td>한화</td>\n",
       "      <td>0.158</td>\n",
       "      <td>46</td>\n",
       "      <td>101</td>\n",
       "      <td>16</td>\n",
       "      <td>16</td>\n",
       "      <td>3</td>\n",
       "      <td>...</td>\n",
       "      <td>5</td>\n",
       "      <td>0.257</td>\n",
       "      <td>0.232</td>\n",
       "      <td>7</td>\n",
       "      <td>180cm/72kg</td>\n",
       "      <td>1992년 08월 11일</td>\n",
       "      <td>내야수(우투좌타)</td>\n",
       "      <td>광주대성초-광주동성중-광주동성고</td>\n",
       "      <td>10000만원</td>\n",
       "      <td>0.489</td>\n",
       "    </tr>\n",
       "  </tbody>\n",
       "</table>\n",
       "<p>5 rows × 29 columns</p>\n",
       "</div>"
      ],
      "text/plain": [
       "   batter_id batter_name  year team    avg    G   AB   R   H  2B  ...    GDP  \\\n",
       "0          0        가르시아  2018   LG  0.339   50  183  27  62   9  ...      3   \n",
       "1          1         강경학  2011   한화  0.000    2    1   0   0   0  ...      0   \n",
       "2          1         강경학  2014   한화  0.221   41   86  11  19   2  ...      1   \n",
       "3          1         강경학  2015   한화  0.257  120  311  50  80   7  ...      3   \n",
       "4          1         강경학  2016   한화  0.158   46  101  16  16   3  ...      5   \n",
       "\n",
       "     SLG    OBP   E  height/weight      year_born   position  \\\n",
       "0  0.519  0.383   9     177cm/93kg  1985년 04월 12일  내야수(우투우타)   \n",
       "1  0.000  0.000   1     180cm/72kg  1992년 08월 11일  내야수(우투좌타)   \n",
       "2  0.349  0.337   6     180cm/72kg  1992년 08월 11일  내야수(우투좌타)   \n",
       "3  0.325  0.348  15     180cm/72kg  1992년 08월 11일  내야수(우투좌타)   \n",
       "4  0.257  0.232   7     180cm/72kg  1992년 08월 11일  내야수(우투좌타)   \n",
       "\n",
       "                                   career  starting_salary    OPS  \n",
       "0  쿠바 Ciego de Avila Maximo Gomez Baez(대)              NaN  0.902  \n",
       "1                       광주대성초-광주동성중-광주동성고          10000만원  0.000  \n",
       "2                       광주대성초-광주동성중-광주동성고          10000만원  0.686  \n",
       "3                       광주대성초-광주동성중-광주동성고          10000만원  0.673  \n",
       "4                       광주대성초-광주동성중-광주동성고          10000만원  0.489  \n",
       "\n",
       "[5 rows x 29 columns]"
      ]
     },
     "execution_count": 5,
     "metadata": {},
     "output_type": "execute_result"
    }
   ],
   "source": [
    "data1.head()"
   ]
  },
  {
   "cell_type": "markdown",
   "metadata": {},
   "source": [
    "## Year"
   ]
  },
  {
   "cell_type": "code",
   "execution_count": 41,
   "metadata": {},
   "outputs": [
    {
     "data": {
      "text/plain": [
       "array([2018, 2011, 2014, 2015, 2016, 2017, 2013, 2005, 2006, 2007, 2008,\n",
       "       2012, 1997, 1998, 1999, 2000, 2001, 2002, 2003, 2004, 2009, 2010,\n",
       "       1996, 1993, 1994, 1995], dtype=int64)"
      ]
     },
     "execution_count": 41,
     "metadata": {},
     "output_type": "execute_result"
    }
   ],
   "source": [
    "data1.year.unique()"
   ]
  },
  {
   "cell_type": "markdown",
   "metadata": {},
   "source": [
    "## 아이디별 평균 OPS "
   ]
  },
  {
   "cell_type": "code",
   "execution_count": 6,
   "metadata": {},
   "outputs": [],
   "source": [
    "mean_ops_by_id = data1.groupby('batter_id').mean()['OPS']"
   ]
  },
  {
   "cell_type": "code",
   "execution_count": 7,
   "metadata": {},
   "outputs": [
    {
     "data": {
      "text/html": [
       "<div>\n",
       "<style scoped>\n",
       "    .dataframe tbody tr th:only-of-type {\n",
       "        vertical-align: middle;\n",
       "    }\n",
       "\n",
       "    .dataframe tbody tr th {\n",
       "        vertical-align: top;\n",
       "    }\n",
       "\n",
       "    .dataframe thead th {\n",
       "        text-align: right;\n",
       "    }\n",
       "</style>\n",
       "<table border=\"1\" class=\"dataframe\">\n",
       "  <thead>\n",
       "    <tr style=\"text-align: right;\">\n",
       "      <th></th>\n",
       "      <th>batter_id</th>\n",
       "      <th>batter_name</th>\n",
       "      <th>year</th>\n",
       "      <th>team</th>\n",
       "      <th>avg</th>\n",
       "      <th>G</th>\n",
       "      <th>AB</th>\n",
       "      <th>R</th>\n",
       "      <th>H</th>\n",
       "      <th>2B</th>\n",
       "      <th>...</th>\n",
       "      <th>GDP</th>\n",
       "      <th>SLG</th>\n",
       "      <th>OBP</th>\n",
       "      <th>E</th>\n",
       "      <th>height/weight</th>\n",
       "      <th>year_born</th>\n",
       "      <th>position</th>\n",
       "      <th>career</th>\n",
       "      <th>starting_salary</th>\n",
       "      <th>OPS</th>\n",
       "    </tr>\n",
       "  </thead>\n",
       "  <tbody>\n",
       "    <tr>\n",
       "      <th>2215</th>\n",
       "      <td>305</td>\n",
       "      <td>최민구</td>\n",
       "      <td>2015</td>\n",
       "      <td>삼성</td>\n",
       "      <td>NaN</td>\n",
       "      <td>6</td>\n",
       "      <td>0</td>\n",
       "      <td>1</td>\n",
       "      <td>0</td>\n",
       "      <td>0</td>\n",
       "      <td>...</td>\n",
       "      <td>0</td>\n",
       "      <td>NaN</td>\n",
       "      <td>NaN</td>\n",
       "      <td>0</td>\n",
       "      <td>NaN</td>\n",
       "      <td>1992년 03월 17일</td>\n",
       "      <td>NaN</td>\n",
       "      <td>칠성초-대구중-대구상원고-영남대</td>\n",
       "      <td>NaN</td>\n",
       "      <td>NaN</td>\n",
       "    </tr>\n",
       "  </tbody>\n",
       "</table>\n",
       "<p>1 rows × 29 columns</p>\n",
       "</div>"
      ],
      "text/plain": [
       "      batter_id batter_name  year team  avg  G  AB  R  H  2B ...   GDP  SLG  \\\n",
       "2215        305         최민구  2015   삼성  NaN  6   0  1  0   0 ...     0  NaN   \n",
       "\n",
       "      OBP  E  height/weight      year_born  position             career  \\\n",
       "2215  NaN  0            NaN  1992년 03월 17일       NaN  칠성초-대구중-대구상원고-영남대   \n",
       "\n",
       "      starting_salary  OPS  \n",
       "2215              NaN  NaN  \n",
       "\n",
       "[1 rows x 29 columns]"
      ]
     },
     "execution_count": 7,
     "metadata": {},
     "output_type": "execute_result"
    }
   ],
   "source": [
    "mean_ops_by_id[mean_ops_by_id.isnull() == True]\n",
    "data1[data1.batter_id==305]"
   ]
  },
  {
   "cell_type": "code",
   "execution_count": 8,
   "metadata": {},
   "outputs": [],
   "source": [
    "mean_ops_by_id = mean_ops_by_id.fillna(0)"
   ]
  },
  {
   "cell_type": "code",
   "execution_count": 9,
   "metadata": {},
   "outputs": [
    {
     "data": {
      "text/plain": [
       "count    345.000000\n",
       "mean       0.615126\n",
       "std        0.193352\n",
       "min        0.000000\n",
       "25%        0.506600\n",
       "50%        0.625736\n",
       "75%        0.737400\n",
       "max        1.173719\n",
       "Name: OPS, dtype: float64"
      ]
     },
     "execution_count": 9,
     "metadata": {},
     "output_type": "execute_result"
    }
   ],
   "source": [
    "mean_ops_by_id.describe()"
   ]
  },
  {
   "cell_type": "code",
   "execution_count": 10,
   "metadata": {},
   "outputs": [
    {
     "name": "stderr",
     "output_type": "stream",
     "text": [
      "C:\\Users\\Jaehyuk Heo\\Anaconda3\\lib\\site-packages\\matplotlib\\axes\\_axes.py:6462: UserWarning: The 'normed' kwarg is deprecated, and has been replaced by the 'density' kwarg.\n",
      "  warnings.warn(\"The 'normed' kwarg is deprecated, and has been \"\n"
     ]
    },
    {
     "data": {
      "text/plain": [
       "<matplotlib.axes._subplots.AxesSubplot at 0x1a9524debe0>"
      ]
     },
     "execution_count": 10,
     "metadata": {},
     "output_type": "execute_result"
    },
    {
     "data": {
      "image/png": "[encoded data removed]",
      "text/plain": [
       "<Figure size 432x288 with 1 Axes>"
      ]
     },
     "metadata": {},
     "output_type": "display_data"
    }
   ],
   "source": [
    "sns.distplot(mean_ops_by_id)"
   ]
  },
  {
   "cell_type": "markdown",
   "metadata": {},
   "source": [
    "## 시즌 참가 횟수"
   ]
  },
  {
   "cell_type": "code",
   "execution_count": 18,
   "metadata": {
    "scrolled": true
   },
   "outputs": [
    {
     "data": {
      "text/plain": [
       "count    345.000000\n",
       "mean       7.113043\n",
       "std        4.999009\n",
       "min        1.000000\n",
       "25%        3.000000\n",
       "50%        6.000000\n",
       "75%       11.000000\n",
       "max       20.000000\n",
       "Name: batter_id, dtype: float64"
      ]
     },
     "execution_count": 18,
     "metadata": {},
     "output_type": "execute_result"
    }
   ],
   "source": [
    "pd.Series(data1.batter_id.value_counts()).describe()"
   ]
  },
  {
   "cell_type": "code",
   "execution_count": 19,
   "metadata": {},
   "outputs": [
    {
     "name": "stderr",
     "output_type": "stream",
     "text": [
      "C:\\Users\\Jaehyuk Heo\\Anaconda3\\lib\\site-packages\\matplotlib\\axes\\_axes.py:6462: UserWarning: The 'normed' kwarg is deprecated, and has been replaced by the 'density' kwarg.\n",
      "  warnings.warn(\"The 'normed' kwarg is deprecated, and has been \"\n"
     ]
    },
    {
     "data": {
      "text/plain": [
       "<matplotlib.axes._subplots.AxesSubplot at 0x1a953aaebe0>"
      ]
     },
     "execution_count": 19,
     "metadata": {},
     "output_type": "execute_result"
    },
    {
     "data": {
      "image/png": "[encoded data removed]",
      "text/plain": [
       "<Figure size 432x288 with 1 Axes>"
      ]
     },
     "metadata": {},
     "output_type": "display_data"
    }
   ],
   "source": [
    "sns.distplot(data1.batter_id.value_counts())"
   ]
  },
  {
   "cell_type": "code",
   "execution_count": null,
   "metadata": {},
   "outputs": [],
   "source": []
  }
 ],
 "metadata": {
  "kernelspec": {
   "display_name": "Python 3",
   "language": "python",
   "name": "python3"
  },
  "language_info": {
   "codemirror_mode": {
    "name": "ipython",
    "version": 3
   },
   "file_extension": ".py",
   "mimetype": "text/x-python",
   "name": "python",
   "nbconvert_exporter": "python",
   "pygments_lexer": "ipython3",
   "version": "3.6.5"
  },
  "toc": {
   "base_numbering": 1,
   "nav_menu": {},
   "number_sections": true,
   "sideBar": true,
   "skip_h1_title": false,
   "title_cell": "Table of Contents",
   "title_sidebar": "Contents",
   "toc_cell": false,
   "toc_position": {
    "height": "calc(100% - 180px)",
    "left": "10px",
    "top": "150px",
    "width": "165px"
   },
   "toc_section_display": true,
   "toc_window_display": true
  }
 },
 "nbformat": 4,
 "nbformat_minor": 2
}
